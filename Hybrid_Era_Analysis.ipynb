{
 "cells": [
  {
   "cell_type": "markdown",
   "metadata": {
    "tags": []
   },
   "source": [
    "# 🏎 Formula 1 'Hybrid Era' Analysis\n",
    "\n",
    "<img src=\"notebook_source/JPG-RGB-F1_70_Number_HotRed_Standard_RGB-1024x302.jpg\">\n",
    "\n",
    "### About the Dataset\n",
    "\n",
    "#### Context\n",
    "\n",
    "Formula 1 (a.k.a. F1 or Formula One) is the highest class of single-seater auto racing sanctioned by the Fédération Internationale de l'Automobile (FIA) and owned by the Formula One Group. The FIA Formula One World Championship has been one of the premier forms of racing around the world since its inaugural season in 1950. The word \"formula\" in the name refers to the set of rules to which all participants' cars must conform. A Formula One season consists of a series of races, known as Grands Prix, which take place worldwide on purpose-built circuits and on public roads.\n",
    "\n",
    "#### Content\n",
    "\n",
    "The dataset consists of all information on the Formula 1 races, drivers, constructors, qualifying, circuits, lap times, pit stops, championships from 1950 till the latest 2021 season.\n",
    "\n",
    "## What is the Hybird Era?\n",
    "\n",
    "### 2014-2021\n",
    "\n",
    "The year 2014 ushered in the most significant rule changes in F1 history, with normally aspirated, 2.4-liter V8 engines replaced by new, 1.6-liter turbocharged V6 “power units” (no longer officially called engines) integrated with complex, hybrid energy recovery systems (ERS) that FIA claimed “gave the sport a much cleaner and greener image more relevant to developing road car technologies.”&#x20;\n",
    "\n",
    "The new formula allows turbocharged engines, which last appeared in 1988. These have their efficiency improved through turbo-compounding by recovering energy from exhaust gases. The original proposal for four-cylinder turbocharged engines was not welcomed by the racing teams, in particular Ferrari. A compromise was reached, allowing V6 forced induction engines instead. The engines rarely exceed 12,000 rpm during qualifying and race, due to the new fuel flow restrictions.\n",
    "\n",
    "Energy recovery systems such as KERS had a boost of 160 hp (120 kW) and 2 megajoules per lap. KERS was renamed Motor Generator Unit–Kinetic (MGU-K). Heat energyrecovery systems were also allowed, under the name Motor Generator Unit–Heat (MGU-H)\n",
    "\n",
    "The 2015 season was an improvement on 2014, adding about 30–50 hp (20–40 kW) to most engines, the Mercedes engine being the most powerful with 870 hp (649 kW). In 2019, Renault's engine was claimed to have hit 1,000 hp in qualifying trim.\n",
    "\n",
    "### 2022\n",
    "\n",
    "In 2017, the FIA began negotiations with existing constructors and potential new manufacturers over the next generation of engines with a projected introduction date of 2021 but delayed to 2022 due to the effects of the COVID-19 pandemic. The initial proposal was designed to simplify engine designs, cut costs, promote new entries and address criticisms directed at the 2014 generation of engines. It called for the 1.6 L V6 configuration to be retained, but abandoned the complex Motor Generator Unit–Heat (MGU-H) system. The Motor Generator Unit–Kinetic (MGU-K) would be more powerful, with a greater emphasis on driver deployment and a more flexible introduction to allow for tactical use.&#x20;\n",
    "\n",
    "The proposal also called for the introduction of standardised components and design parameters to make components produced by all manufacturers compatible with one another in a system dubbed \"plug in and play\". A further proposal to allow four-wheel drive cars was also made, with the front axle driven by an MGU-K unit—as opposed to the traditional driveshaft—that functioned independently of the MGU-K providing power to the rear axle, mirroring the system developed by Porsche for the 919 Hybrid race car.\n",
    "\n",
    "However, mostly due to no engine supplier applying for F1 entry in 2021 and 2022, abolishment of the MGU-H, a more powerful MGU-K and a four-wheel drive system were all shelved with the possibility of their re-introduction for 2026. Instead, the teams and FIA agreed to a radical change in body/chassis aerodynamics to promote more battles on the course at closer distances to each other. They further agreed to an increase in alcohol content from 5.75% to 10% of fuel, and to implement a freeze on power unit design for 2022-2025, with the ICE, turbocharger and MGU-H being frozen on March 1st and the energy store, MGU-K and control electronics being frozen on September 1st during the 2022 season. Honda, the outgoing engine supplier in 2021, was keen to keep the MGU-H, and Red Bull, who took over the engine production project, backed that opinion. The 4WD system was planned to be based on Porsche 919 Hybrid system, but Porsche ended up not becoming an F1 engine supplier for 2021-2022."
   ]
  },
  {
   "cell_type": "markdown",
   "metadata": {
    "jp-MarkdownHeadingCollapsed": true,
    "tags": []
   },
   "source": [
    "### How to run the code\n",
    "\n",
    "This is an executable [*Jupyter notebook*](https://jupyter.org) hosted on [Jovian.ml](https://www.jovian.ml), a platform for sharing data science projects. You can run and experiment with the code in a couple of ways: *using free online resources* (recommended) or *on your own computer*.\n",
    "\n",
    "#### Option 1: Running using free online resources (1-click, recommended)\n",
    "\n",
    "The easiest way to start executing this notebook is to click the \"Run\" button at the top of this page, and select \"Run on Binder\". This will run the notebook on [mybinder.org](https://mybinder.org), a free online service for running Jupyter notebooks. You can also select \"Run on Colab\" or \"Run on Kaggle\".\n",
    "\n",
    "\n",
    "#### Option 2: Running on your computer locally\n",
    "\n",
    "1. Install Conda by [following these instructions](https://conda.io/projects/conda/en/latest/user-guide/install/index.html). Add Conda binaries to your system `PATH`, so you can use the `conda` command on your terminal.\n",
    "\n",
    "2. Create a Conda environment and install the required libraries by running these commands on the terminal:\n",
    "\n",
    "```\n",
    "conda create -n zerotopandas -y python=3.8 \n",
    "conda activate zerotopandas\n",
    "pip install jovian jupyter numpy pandas matplotlib seaborn opendatasets --upgrade\n",
    "```\n",
    "\n",
    "3. Press the \"Clone\" button above to copy the command for downloading the notebook, and run it on the terminal. This will create a new directory and download the notebook. The command will look something like this:\n",
    "\n",
    "```\n",
    "jovian clone notebook-owner/notebook-id\n",
    "```\n",
    "\n",
    "\n",
    "\n",
    "4. Enter the newly created directory using `cd directory-name` and start the Jupyter notebook.\n",
    "\n",
    "```\n",
    "jupyter notebook\n",
    "```\n",
    "\n",
    "You can now access Jupyter's web interface by clicking the link that shows up on the terminal or by visiting http://localhost:8888 on your browser. Click on the notebook file (it has a `.ipynb` extension) to open it.\n"
   ]
  },
  {
   "cell_type": "markdown",
   "metadata": {},
   "source": [
    "## Downloading the Dataset\n",
    "\n",
    "We will be using pyergast to for access to the Formula 1 database provided by Ergast API. Pyergast gives us direct access to the database, with no need to downlowd a CSV or any other files. \n",
    "\n",
    "The \"explore_pyergast.py\" file will dive into pyergast's features and do some minor exploration in the data to gain familirity with the pyergast commands. "
   ]
  },
  {
   "cell_type": "code",
   "execution_count": 1,
   "metadata": {},
   "outputs": [],
   "source": [
    "!pip install --upgrade pip --quiet\n",
    "!pip install pyergast --upgrade --quiet"
   ]
  },
  {
   "cell_type": "code",
   "execution_count": 2,
   "metadata": {},
   "outputs": [],
   "source": [
    "# pyergast requires both numpy and pandas\n",
    "from unittest import result\n",
    "from IPython.utils import io\n",
    "from __future__ import print_function\n",
    "import sys\n",
    "import matplotlib.pyplot as plt\n",
    "import pandas as pd\n",
    "import pprint as pp\n",
    "from timple.timedelta import strftimedelta\n",
    "import fastf1\n",
    "import fastf1.plotting as plotting\n",
    "from fastf1.core import Laps"
   ]
  },
  {
   "cell_type": "markdown",
   "metadata": {},
   "source": [
    "Let us save and upload our work to Jovian before continuing."
   ]
  },
  {
   "cell_type": "code",
   "execution_count": 3,
   "metadata": {},
   "outputs": [],
   "source": [
    "project_name = \"hybrid-era-analysis\"\n",
    "project_file = \"Hybrid_Era_Analysis.ipynb\""
   ]
  },
  {
   "cell_type": "code",
   "execution_count": 4,
   "metadata": {},
   "outputs": [],
   "source": [
    "!pip install jovian --upgrade -q"
   ]
  },
  {
   "cell_type": "code",
   "execution_count": 5,
   "metadata": {},
   "outputs": [
    {
     "data": {
      "application/javascript": "if (window.IPython && IPython.notebook.kernel) IPython.notebook.kernel.execute('jovian.utils.jupyter.get_notebook_name_saved = lambda: \"' + IPython.notebook.notebook_name + '\"')",
      "text/plain": [
       "<IPython.core.display.Javascript object>"
      ]
     },
     "metadata": {},
     "output_type": "display_data"
    }
   ],
   "source": [
    "import jovian"
   ]
  },
  {
   "cell_type": "code",
   "execution_count": 6,
   "metadata": {},
   "outputs": [
    {
     "data": {
      "application/javascript": "window.require && require([\"base/js/namespace\"],function(Jupyter){Jupyter.notebook.save_checkpoint()})",
      "text/plain": [
       "<IPython.core.display.Javascript object>"
      ]
     },
     "metadata": {},
     "output_type": "display_data"
    },
    {
     "name": "stdout",
     "output_type": "stream",
     "text": [
      "[jovian] Updating notebook \"zoibderg/hybrid-era-analysis\" on https://jovian.ai/\u001b[0m\n",
      "[jovian] Uploading additional files...\u001b[0m\n",
      "[jovian] Committed successfully! https://jovian.ai/zoibderg/hybrid-era-analysis\u001b[0m\n"
     ]
    },
    {
     "data": {
      "text/plain": [
       "'https://jovian.ai/zoibderg/hybrid-era-analysis'"
      ]
     },
     "execution_count": 6,
     "metadata": {},
     "output_type": "execute_result"
    }
   ],
   "source": [
    "jovian.commit(project=project_name, filename=project_file, files=[\"explore_ergast.py\", \"notebook_source\"])"
   ]
  },
  {
   "cell_type": "markdown",
   "metadata": {},
   "source": [
    "## Data Preparation and Cleaning\n",
    "\n",
    "**TODO** - Write some explanation here.\n",
    "\n"
   ]
  },
  {
   "cell_type": "markdown",
   "metadata": {},
   "source": [
    "> Instructions (delete this cell):\n",
    ">\n",
    "> - Load the dataset into a data frame using Pandas\n",
    "> - Explore the number of rows & columns, ranges of values etc.\n",
    "> - Handle missing, incorrect and invalid data\n",
    "> - Perform any additional steps (parsing dates, creating additional columns, merging multiple dataset etc.)"
   ]
  },
  {
   "cell_type": "code",
   "execution_count": 48,
   "metadata": {
    "tags": []
   },
   "outputs": [
    {
     "name": "stdout",
     "output_type": "stream",
     "text": [
      "{'FORMULA 1 ROLEX GROSSER PREIS VON ÖSTERREICH 2020': 'FORMULA 1 ROLEX GROSSER PREIS VON ÖSTERREICH 2020', 'FORMULA 1 PIRELLI GROSSER PREIS DER STEIERMARK 2020': 'FORMULA 1 PIRELLI GROSSER PREIS DER STEIERMARK 2020', 'FORMULA 1 ARAMCO MAGYAR NAGYDÍJ 2020': 'FORMULA 1 ARAMCO MAGYAR NAGYDÍJ 2020', 'FORMULA 1 PIRELLI BRITISH GRAND PRIX 2020': 'FORMULA 1 PIRELLI BRITISH GRAND PRIX 2020', 'EMIRATES FORMULA 1 70TH ANNIVERSARY GRAND PRIX 2020': 'EMIRATES FORMULA 1 70TH ANNIVERSARY GRAND PRIX 2020', 'FORMULA 1 ARAMCO GRAN PREMIO DE ESPAÑA 2020': 'FORMULA 1 ARAMCO GRAN PREMIO DE ESPAÑA 2020', 'FORMULA 1 ROLEX BELGIAN GRAND PRIX 2020': 'FORMULA 1 ROLEX BELGIAN GRAND PRIX 2020', 'FORMULA 1 GRAN PREMIO HEINEKEN D’ITALIA 2020': 'FORMULA 1 GRAN PREMIO HEINEKEN D’ITALIA 2020', 'FORMULA 1 PIRELLI GRAN PREMIO DELLA TOSCANA FERRARI 1000 2020': 'FORMULA 1 PIRELLI GRAN PREMIO DELLA TOSCANA FERRARI 1000 2020', 'FORMULA 1 VTB RUSSIAN GRAND PRIX 2020': 'FORMULA 1 VTB RUSSIAN GRAND PRIX 2020', 'FORMULA 1 ARAMCO GROSSER PREIS DER EIFEL 2020': 'FORMULA 1 ARAMCO GROSSER PREIS DER EIFEL 2020', 'FORMULA 1 HEINEKEN GRANDE PRÉMIO DE PORTUGAL 2020': 'FORMULA 1 HEINEKEN GRANDE PRÉMIO DE PORTUGAL 2020', 'FORMULA 1 EMIRATES GRAN PREMIO DELL’EMILIA ROMAGNA 2020': 'FORMULA 1 EMIRATES GRAN PREMIO DELL’EMILIA ROMAGNA 2020', 'FORMULA 1 DHL TURKISH GRAND PRIX 2020': 'FORMULA 1 DHL TURKISH GRAND PRIX 2020', 'FORMULA 1 GULF AIR BAHRAIN GRAND PRIX 2020': 'FORMULA 1 GULF AIR BAHRAIN GRAND PRIX 2020', 'FORMULA 1 ROLEX SAKHIR GRAND PRIX 2020': 'FORMULA 1 ROLEX SAKHIR GRAND PRIX 2020', 'FORMULA 1 ETIHAD AIRWAYS ABU DHABI GRAND PRIX 2020': 'FORMULA 1 ETIHAD AIRWAYS ABU DHABI GRAND PRIX 2020', 'FORMULA 1 GULF AIR BAHRAIN GRAND PRIX 2021': 'FORMULA 1 GULF AIR BAHRAIN GRAND PRIX 2021', 'FORMULA 1 PIRELLI GRAN PREMIO DEL MADE IN ITALY E DELL’EMILIA ROMAGNA 2021': 'FORMULA 1 PIRELLI GRAN PREMIO DEL MADE IN ITALY E DELL’EMILIA ROMAGNA 2021', 'FORMULA 1 HEINEKEN GRANDE PRÉMIO DE PORTUGAL 2021': 'FORMULA 1 HEINEKEN GRANDE PRÉMIO DE PORTUGAL 2021', 'FORMULA 1 ARAMCO GRAN PREMIO DE ESPAÑA 2021': 'FORMULA 1 ARAMCO GRAN PREMIO DE ESPAÑA 2021', 'FORMULA 1 GRAND PRIX DE MONACO 2021': 'FORMULA 1 GRAND PRIX DE MONACO 2021', 'FORMULA 1 AZERBAIJAN GRAND PRIX 2021': 'FORMULA 1 AZERBAIJAN GRAND PRIX 2021', 'FORMULA 1 EMIRATES GRAND PRIX DE FRANCE 2021': 'FORMULA 1 EMIRATES GRAND PRIX DE FRANCE 2021', 'FORMULA 1 BWT GROSSER PREIS DER STEIERMARK 2021': 'FORMULA 1 BWT GROSSER PREIS DER STEIERMARK 2021', 'FORMULA 1 BWT GROSSER PREIS VON ÖSTERREICH 2021': 'FORMULA 1 BWT GROSSER PREIS VON ÖSTERREICH 2021', 'FORMULA 1 PIRELLI BRITISH GRAND PRIX 2021': 'FORMULA 1 PIRELLI BRITISH GRAND PRIX 2021', 'FORMULA 1 ROLEX MAGYAR NAGYDÍJ 2021': 'FORMULA 1 ROLEX MAGYAR NAGYDÍJ 2021', 'FORMULA 1 ROLEX BELGIAN GRAND PRIX 2021': 'FORMULA 1 ROLEX BELGIAN GRAND PRIX 2021', 'FORMULA 1 HEINEKEN DUTCH GRAND PRIX 2021': 'FORMULA 1 HEINEKEN DUTCH GRAND PRIX 2021', 'FORMULA 1 HEINEKEN GRAN PREMIO D’ITALIA 2021': 'FORMULA 1 HEINEKEN GRAN PREMIO D’ITALIA 2021', 'FORMULA 1 VTB RUSSIAN GRAND PRIX 2021': 'FORMULA 1 VTB RUSSIAN GRAND PRIX 2021', 'FORMULA 1 ROLEX TURKISH GRAND PRIX 2021': 'FORMULA 1 ROLEX TURKISH GRAND PRIX 2021', 'FORMULA 1 ARAMCO UNITED STATES GRAND PRIX 2021': 'FORMULA 1 ARAMCO UNITED STATES GRAND PRIX 2021', 'FORMULA 1 GRAN PREMIO DE LA CIUDAD DE MÉXICO 2021': 'FORMULA 1 GRAN PREMIO DE LA CIUDAD DE MÉXICO 2021', 'FORMULA 1 HEINEKEN GRANDE PRÊMIO DE SÃO PAULO 2021': 'FORMULA 1 HEINEKEN GRANDE PRÊMIO DE SÃO PAULO 2021', 'FORMULA 1 OOREDOO QATAR GRAND PRIX 2021': 'FORMULA 1 OOREDOO QATAR GRAND PRIX 2021', 'FORMULA 1 STC SAUDI ARABIAN GRAND PRIX 2021': 'FORMULA 1 STC SAUDI ARABIAN GRAND PRIX 2021', 'FORMULA 1 ETIHAD AIRWAYS ABU DHABI GRAND PRIX 2021': 'FORMULA 1 ETIHAD AIRWAYS ABU DHABI GRAND PRIX 2021'}\n",
      "{2020:     RoundNumber   Country     Location  \\\n",
      "2             1   Austria    Spielberg   \n",
      "3             2   Austria    Spielberg   \n",
      "4             3   Hungary     Budapest   \n",
      "5             4        UK  Silverstone   \n",
      "6             5        UK  Silverstone   \n",
      "7             6     Spain     Montmeló   \n",
      "8             7   Belgium          Spa   \n",
      "9             8     Italy        Monza   \n",
      "10            9     Italy      Mugello   \n",
      "11           10    Russia        Sochi   \n",
      "12           11   Germany      Nürburg   \n",
      "13           12  Portugal     Portimão   \n",
      "14           13     Italy        Imola   \n",
      "15           14    Turkey     Istanbul   \n",
      "16           15   Bahrain       Sakhir   \n",
      "17           16   Bahrain       Sakhir   \n",
      "18           17       UAE    Abu Dhabi   \n",
      "\n",
      "                                    OfficialEventName  EventDate  \\\n",
      "2   FORMULA 1 ROLEX GROSSER PREIS VON ÖSTERREICH 2020 2020-07-05   \n",
      "3   FORMULA 1 PIRELLI GROSSER PREIS DER STEIERMARK... 2020-07-12   \n",
      "4                FORMULA 1 ARAMCO MAGYAR NAGYDÍJ 2020 2020-07-19   \n",
      "5           FORMULA 1 PIRELLI BRITISH GRAND PRIX 2020 2020-08-02   \n",
      "6   EMIRATES FORMULA 1 70TH ANNIVERSARY GRAND PRIX... 2020-08-09   \n",
      "7         FORMULA 1 ARAMCO GRAN PREMIO DE ESPAÑA 2020 2020-08-16   \n",
      "8             FORMULA 1 ROLEX BELGIAN GRAND PRIX 2020 2020-08-30   \n",
      "9        FORMULA 1 GRAN PREMIO HEINEKEN D’ITALIA 2020 2020-09-06   \n",
      "10  FORMULA 1 PIRELLI GRAN PREMIO DELLA TOSCANA FE... 2020-09-13   \n",
      "11              FORMULA 1 VTB RUSSIAN GRAND PRIX 2020 2020-09-27   \n",
      "12      FORMULA 1 ARAMCO GROSSER PREIS DER EIFEL 2020 2020-10-11   \n",
      "13  FORMULA 1 HEINEKEN GRANDE PRÉMIO DE PORTUGAL 2020 2020-10-25   \n",
      "14  FORMULA 1 EMIRATES GRAN PREMIO DELL’EMILIA ROM... 2020-11-01   \n",
      "15              FORMULA 1 DHL TURKISH GRAND PRIX 2020 2020-11-15   \n",
      "16         FORMULA 1 GULF AIR BAHRAIN GRAND PRIX 2020 2020-11-29   \n",
      "17             FORMULA 1 ROLEX SAKHIR GRAND PRIX 2020 2020-12-06   \n",
      "18  FORMULA 1 ETIHAD AIRWAYS ABU DHABI GRAND PRIX ... 2020-12-13   \n",
      "\n",
      "                      EventName   EventFormat    Session1 Session1Date  \\\n",
      "2           Austrian Grand Prix  conventional  Practice 1   2020-07-03   \n",
      "3            Styrian Grand Prix  conventional  Practice 1   2020-07-10   \n",
      "4          Hungarian Grand Prix  conventional  Practice 1   2020-07-17   \n",
      "5            British Grand Prix  conventional  Practice 1   2020-07-31   \n",
      "6   70th Anniversary Grand Prix  conventional  Practice 1   2020-08-07   \n",
      "7            Spanish Grand Prix  conventional  Practice 1   2020-08-14   \n",
      "8            Belgian Grand Prix  conventional  Practice 1   2020-08-28   \n",
      "9            Italian Grand Prix  conventional  Practice 1   2020-09-04   \n",
      "10            Tuscan Grand Prix  conventional  Practice 1   2020-09-11   \n",
      "11           Russian Grand Prix  conventional  Practice 1   2020-09-25   \n",
      "12             Eifel Grand Prix  conventional  Practice 1   2020-10-09   \n",
      "13        Portuguese Grand Prix  conventional  Practice 1   2020-10-23   \n",
      "14    Emilia Romagna Grand Prix  conventional  Practice 1   2020-10-31   \n",
      "15           Turkish Grand Prix  conventional  Practice 1   2020-11-13   \n",
      "16           Bahrain Grand Prix  conventional  Practice 1   2020-11-27   \n",
      "17            Sakhir Grand Prix  conventional  Practice 1   2020-12-04   \n",
      "18         Abu Dhabi Grand Prix  conventional  Practice 1   2020-12-11   \n",
      "\n",
      "      Session2 Session2Date    Session3 Session3Date    Session4 Session4Date  \\\n",
      "2   Practice 2   2020-07-03  Practice 3   2020-07-04  Qualifying   2020-07-04   \n",
      "3   Practice 2   2020-07-10  Practice 3   2020-07-11  Qualifying   2020-07-11   \n",
      "4   Practice 2   2020-07-17  Practice 3   2020-07-18  Qualifying   2020-07-18   \n",
      "5   Practice 2   2020-07-31  Practice 3   2020-08-01  Qualifying   2020-08-01   \n",
      "6   Practice 2   2020-08-07  Practice 3   2020-08-08  Qualifying   2020-08-08   \n",
      "7   Practice 2   2020-08-14  Practice 3   2020-08-15  Qualifying   2020-08-15   \n",
      "8   Practice 2   2020-08-28  Practice 3   2020-08-29  Qualifying   2020-08-29   \n",
      "9   Practice 2   2020-09-04  Practice 3   2020-09-05  Qualifying   2020-09-05   \n",
      "10  Practice 2   2020-09-11  Practice 3   2020-09-12  Qualifying   2020-09-12   \n",
      "11  Practice 2   2020-09-25  Practice 3   2020-09-26  Qualifying   2020-09-26   \n",
      "12  Practice 2   2020-10-09  Practice 3   2020-10-10  Qualifying   2020-10-10   \n",
      "13  Practice 2   2020-10-23  Practice 3   2020-10-24  Qualifying   2020-10-24   \n",
      "14  Practice 2          NaT  Practice 3          NaT  Qualifying   2020-10-31   \n",
      "15  Practice 2   2020-11-13  Practice 3   2020-11-14  Qualifying   2020-11-14   \n",
      "16  Practice 2   2020-11-27  Practice 3   2020-11-28  Qualifying   2020-11-28   \n",
      "17  Practice 2   2020-12-04  Practice 3   2020-12-05  Qualifying   2020-12-05   \n",
      "18  Practice 2   2020-12-11  Practice 3   2020-12-12  Qualifying   2020-12-12   \n",
      "\n",
      "   Session5 Session5Date  F1ApiSupport  \n",
      "2      Race   2020-07-05          True  \n",
      "3      Race   2020-07-12          True  \n",
      "4      Race   2020-07-19          True  \n",
      "5      Race   2020-08-02          True  \n",
      "6      Race   2020-08-09          True  \n",
      "7      Race   2020-08-16          True  \n",
      "8      Race   2020-08-30          True  \n",
      "9      Race   2020-09-06          True  \n",
      "10     Race   2020-09-13          True  \n",
      "11     Race   2020-09-27          True  \n",
      "12     Race   2020-10-11          True  \n",
      "13     Race   2020-10-25          True  \n",
      "14     Race   2020-11-01          True  \n",
      "15     Race   2020-11-15          True  \n",
      "16     Race   2020-11-29          True  \n",
      "17     Race   2020-12-06          True  \n",
      "18     Race   2020-12-13          True  , 2021:     RoundNumber       Country      Location  \\\n",
      "1             1       Bahrain        Sakhir   \n",
      "2             2         Italy         Imola   \n",
      "3             3      Portugal      Portimão   \n",
      "4             4         Spain      Montmeló   \n",
      "5             5        Monaco   Monte-Carlo   \n",
      "6             6    Azerbaijan          Baku   \n",
      "7             7        France  Le Castellet   \n",
      "8             8       Austria     Spielberg   \n",
      "9             9       Austria     Spielberg   \n",
      "10           10            UK   Silverstone   \n",
      "11           11       Hungary      Budapest   \n",
      "12           12       Belgium           Spa   \n",
      "13           13   Netherlands     Zandvoort   \n",
      "14           14         Italy         Monza   \n",
      "15           15        Russia         Sochi   \n",
      "16           16        Turkey      Istanbul   \n",
      "17           17           USA        Austin   \n",
      "18           18        Mexico   Mexico City   \n",
      "19           19        Brazil     São Paulo   \n",
      "20           20         Qatar     Al Daayen   \n",
      "21           21  Saudi Arabia        Jeddah   \n",
      "22           22           UAE     Abu Dhabi   \n",
      "\n",
      "                                    OfficialEventName  EventDate  \\\n",
      "1          FORMULA 1 GULF AIR BAHRAIN GRAND PRIX 2021 2021-03-28   \n",
      "2   FORMULA 1 PIRELLI GRAN PREMIO DEL MADE IN ITAL... 2021-04-18   \n",
      "3   FORMULA 1 HEINEKEN GRANDE PRÉMIO DE PORTUGAL 2021 2021-05-02   \n",
      "4         FORMULA 1 ARAMCO GRAN PREMIO DE ESPAÑA 2021 2021-05-09   \n",
      "5                 FORMULA 1 GRAND PRIX DE MONACO 2021 2021-05-23   \n",
      "6                FORMULA 1 AZERBAIJAN GRAND PRIX 2021 2021-06-06   \n",
      "7        FORMULA 1 EMIRATES GRAND PRIX DE FRANCE 2021 2021-06-20   \n",
      "8     FORMULA 1 BWT GROSSER PREIS DER STEIERMARK 2021 2021-06-27   \n",
      "9     FORMULA 1 BWT GROSSER PREIS VON ÖSTERREICH 2021 2021-07-04   \n",
      "10          FORMULA 1 PIRELLI BRITISH GRAND PRIX 2021 2021-07-18   \n",
      "11                FORMULA 1 ROLEX MAGYAR NAGYDÍJ 2021 2021-08-01   \n",
      "12            FORMULA 1 ROLEX BELGIAN GRAND PRIX 2021 2021-08-29   \n",
      "13           FORMULA 1 HEINEKEN DUTCH GRAND PRIX 2021 2021-09-05   \n",
      "14       FORMULA 1 HEINEKEN GRAN PREMIO D’ITALIA 2021 2021-09-12   \n",
      "15              FORMULA 1 VTB RUSSIAN GRAND PRIX 2021 2021-09-26   \n",
      "16            FORMULA 1 ROLEX TURKISH GRAND PRIX 2021 2021-10-10   \n",
      "17     FORMULA 1 ARAMCO UNITED STATES GRAND PRIX 2021 2021-10-24   \n",
      "18  FORMULA 1 GRAN PREMIO DE LA CIUDAD DE MÉXICO 2021 2021-11-07   \n",
      "19  FORMULA 1 HEINEKEN GRANDE PRÊMIO DE SÃO PAULO ... 2021-11-14   \n",
      "20            FORMULA 1 OOREDOO QATAR GRAND PRIX 2021 2021-11-21   \n",
      "21        FORMULA 1 STC SAUDI ARABIAN GRAND PRIX 2021 2021-12-05   \n",
      "22  FORMULA 1 ETIHAD AIRWAYS ABU DHABI GRAND PRIX ... 2021-12-12   \n",
      "\n",
      "                    EventName   EventFormat    Session1 Session1Date  \\\n",
      "1          Bahrain Grand Prix  conventional  Practice 1   2021-03-26   \n",
      "2   Emilia Romagna Grand Prix  conventional  Practice 1   2021-04-16   \n",
      "3       Portuguese Grand Prix  conventional  Practice 1   2021-04-30   \n",
      "4          Spanish Grand Prix  conventional  Practice 1   2021-05-07   \n",
      "5           Monaco Grand Prix  conventional  Practice 1   2021-05-20   \n",
      "6       Azerbaijan Grand Prix  conventional  Practice 1   2021-06-04   \n",
      "7           French Grand Prix  conventional  Practice 1   2021-06-18   \n",
      "8          Styrian Grand Prix  conventional  Practice 1   2021-06-25   \n",
      "9         Austrian Grand Prix  conventional  Practice 1   2021-07-02   \n",
      "10         British Grand Prix        sprint  Practice 1   2021-07-16   \n",
      "11       Hungarian Grand Prix  conventional  Practice 1   2021-07-30   \n",
      "12         Belgian Grand Prix  conventional  Practice 1   2021-08-27   \n",
      "13           Dutch Grand Prix  conventional  Practice 1   2021-09-03   \n",
      "14         Italian Grand Prix        sprint  Practice 1   2021-09-10   \n",
      "15         Russian Grand Prix  conventional  Practice 1   2021-09-24   \n",
      "16         Turkish Grand Prix  conventional  Practice 1   2021-10-08   \n",
      "17   United States Grand Prix  conventional  Practice 1   2021-10-22   \n",
      "18     Mexico City Grand Prix  conventional  Practice 1   2021-11-05   \n",
      "19       São Paulo Grand Prix        sprint  Practice 1   2021-11-12   \n",
      "20           Qatar Grand Prix  conventional  Practice 1   2021-11-19   \n",
      "21   Saudi Arabian Grand Prix  conventional  Practice 1   2021-12-03   \n",
      "22       Abu Dhabi Grand Prix  conventional  Practice 1   2021-12-10   \n",
      "\n",
      "      Session2 Session2Date    Session3 Session3Date           Session4  \\\n",
      "1   Practice 2   2021-03-26  Practice 3   2021-03-27         Qualifying   \n",
      "2   Practice 2   2021-04-16  Practice 3   2021-04-17         Qualifying   \n",
      "3   Practice 2   2021-04-30  Practice 3   2021-05-01         Qualifying   \n",
      "4   Practice 2   2021-05-07  Practice 3   2021-05-08         Qualifying   \n",
      "5   Practice 2   2021-05-20  Practice 3   2021-05-22         Qualifying   \n",
      "6   Practice 2   2021-06-04  Practice 3   2021-06-05         Qualifying   \n",
      "7   Practice 2   2021-06-18  Practice 3   2021-06-19         Qualifying   \n",
      "8   Practice 2   2021-06-25  Practice 3   2021-06-26         Qualifying   \n",
      "9   Practice 2   2021-07-02  Practice 3   2021-07-03         Qualifying   \n",
      "10  Qualifying   2021-07-16  Practice 2   2021-07-17  Sprint Qualifying   \n",
      "11  Practice 2   2021-07-30  Practice 3   2021-07-31         Qualifying   \n",
      "12  Practice 2   2021-08-27  Practice 3   2021-08-28         Qualifying   \n",
      "13  Practice 2   2021-09-03  Practice 3   2021-09-04         Qualifying   \n",
      "14  Qualifying   2021-09-10  Practice 2   2021-09-11  Sprint Qualifying   \n",
      "15  Practice 2   2021-09-24  Practice 3   2021-09-25         Qualifying   \n",
      "16  Practice 2   2021-10-08  Practice 3   2021-10-09         Qualifying   \n",
      "17  Practice 2   2021-10-22  Practice 3   2021-10-23         Qualifying   \n",
      "18  Practice 2   2021-11-05  Practice 3   2021-11-06         Qualifying   \n",
      "19  Qualifying   2021-11-12  Practice 2   2021-11-13  Sprint Qualifying   \n",
      "20  Practice 2   2021-11-19  Practice 3   2021-11-20         Qualifying   \n",
      "21  Practice 2   2021-12-03  Practice 3   2021-12-04         Qualifying   \n",
      "22  Practice 2   2021-12-10  Practice 3   2021-12-11         Qualifying   \n",
      "\n",
      "   Session4Date Session5 Session5Date  F1ApiSupport  \n",
      "1    2021-03-27     Race   2021-03-28          True  \n",
      "2    2021-04-17     Race   2021-04-18          True  \n",
      "3    2021-05-01     Race   2021-05-02          True  \n",
      "4    2021-05-08     Race   2021-05-09          True  \n",
      "5    2021-05-22     Race   2021-05-23          True  \n",
      "6    2021-06-05     Race   2021-06-06          True  \n",
      "7    2021-06-19     Race   2021-06-20          True  \n",
      "8    2021-06-26     Race   2021-06-27          True  \n",
      "9    2021-07-03     Race   2021-07-04          True  \n",
      "10   2021-07-17     Race   2021-07-18          True  \n",
      "11   2021-07-31     Race   2021-08-01          True  \n",
      "12   2021-08-28     Race   2021-08-29          True  \n",
      "13   2021-09-04     Race   2021-09-05          True  \n",
      "14   2021-09-11     Race   2021-09-12          True  \n",
      "15   2021-09-25     Race   2021-09-26          True  \n",
      "16   2021-10-09     Race   2021-10-10          True  \n",
      "17   2021-10-23     Race   2021-10-24          True  \n",
      "18   2021-11-06     Race   2021-11-07          True  \n",
      "19   2021-11-13     Race   2021-11-14          True  \n",
      "20   2021-11-20     Race   2021-11-21          True  \n",
      "21   2021-12-04     Race   2021-12-05          True  \n",
      "22   2021-12-11     Race   2021-12-12          True  }\n"
     ]
    }
   ],
   "source": [
    "\"\"\"\n",
    "WARING: FASTF1 WILL DOWNLOAD DATA FROM THE INTERNET\n",
    "FASTF1 WILL ALSO OUPUT A LOT OF INFORMATION TO THE CONSOLE; ENSURE OUPUT IS COLLAPSED\n",
    "\n",
    "It is recommended to run the notebook in Google Colab. \n",
    "The notebook is also available on GitHub\n",
    "\"\"\"\n",
    "\n",
    "\n",
    "# LOAD HYBRID ERA DATA\n",
    "# Gather schedule\n",
    "# Gather telemetry\n",
    "class HybridData:\n",
    "    fastf1.Cache.enable_cache('./cache')   # optional but recommended\n",
    "\n",
    "    def __init__(self, start, end):\n",
    "        self.start = start\n",
    "        self.end = end\n",
    "        self.hybrid_schs = {} \n",
    "        self.events = {}\n",
    "        self.race_data = {}\n",
    "\n",
    "    def get_schs(self):\n",
    "        for i in range(self.start, self.end):\n",
    "            sch = fastf1.get_event_schedule(i, include_testing=False)\n",
    "            self.hybrid_schs[i] = sch\n",
    "\n",
    "    def get_events(self):\n",
    "        for year in self.hybrid_schs:\n",
    "            for event in self.hybrid_schs[year]['OfficialEventName']:\n",
    "                self.events[event] = event\n",
    "\n",
    "    def get_race_data(self):\n",
    "        for i in range(self.start, self.end):\n",
    "            for event in self.events.values():\n",
    "                gp = fastf1.get_session(i, event, 'R')\n",
    "                gp.load()\n",
    "                result = gp.results\n",
    "                self.race_data[i][event] = result\n",
    "                #print(result)\n",
    "\n",
    "hybrid_data = HybridData(2020, 2022)\n",
    "hybrid_data.get_schs()\n",
    "hybrid_data.get_events()\n",
    "# hybrid_data.get_race_data()\n",
    "print(hybrid_data.events)\n",
    "print(hybrid_data.hybrid_schs)\n",
    "# print(hybrid_data.race_data)"
   ]
  },
  {
   "cell_type": "code",
   "execution_count": 19,
   "metadata": {},
   "outputs": [
    {
     "data": {
      "application/javascript": "window.require && require([\"base/js/namespace\"],function(Jupyter){Jupyter.notebook.save_checkpoint()})",
      "text/plain": [
       "<IPython.core.display.Javascript object>"
      ]
     },
     "metadata": {},
     "output_type": "display_data"
    },
    {
     "name": "stdout",
     "output_type": "stream",
     "text": [
      "[jovian] Updating notebook \"zoibderg/hybrid-era-analysis\" on https://jovian.ai/\u001b[0m\n",
      "[jovian] Uploading additional files...\u001b[0m\n",
      "[jovian] Committed successfully! https://jovian.ai/zoibderg/hybrid-era-analysis\u001b[0m\n"
     ]
    },
    {
     "data": {
      "text/plain": [
       "'https://jovian.ai/zoibderg/hybrid-era-analysis'"
      ]
     },
     "execution_count": 19,
     "metadata": {},
     "output_type": "execute_result"
    }
   ],
   "source": [
    "# LETS MAKE ANOTHER JOVIAN COMMIT\n",
    "jovian.commit(project=project_name, filename=project_file, files=[\"explore_ergast.py\",\"explore_ergastpy.py\", \"notebook_source\", \"cache\"])"
   ]
  },
  {
   "cell_type": "code",
   "execution_count": null,
   "metadata": {},
   "outputs": [],
   "source": []
  },
  {
   "cell_type": "code",
   "execution_count": null,
   "metadata": {},
   "outputs": [],
   "source": []
  },
  {
   "cell_type": "code",
   "execution_count": null,
   "metadata": {},
   "outputs": [],
   "source": []
  },
  {
   "cell_type": "code",
   "execution_count": null,
   "metadata": {},
   "outputs": [],
   "source": []
  },
  {
   "cell_type": "code",
   "execution_count": null,
   "metadata": {},
   "outputs": [],
   "source": []
  },
  {
   "cell_type": "code",
   "execution_count": null,
   "metadata": {},
   "outputs": [],
   "source": []
  },
  {
   "cell_type": "code",
   "execution_count": null,
   "metadata": {},
   "outputs": [],
   "source": []
  },
  {
   "cell_type": "code",
   "execution_count": null,
   "metadata": {},
   "outputs": [],
   "source": []
  },
  {
   "cell_type": "code",
   "execution_count": null,
   "metadata": {},
   "outputs": [],
   "source": []
  },
  {
   "cell_type": "code",
   "execution_count": 22,
   "metadata": {},
   "outputs": [],
   "source": [
    "import jovian"
   ]
  },
  {
   "cell_type": "code",
   "execution_count": 23,
   "metadata": {},
   "outputs": [
    {
     "data": {
      "application/javascript": "window.require && require([\"base/js/namespace\"],function(Jupyter){Jupyter.notebook.save_checkpoint()})",
      "text/plain": [
       "<IPython.core.display.Javascript object>"
      ]
     },
     "metadata": {},
     "output_type": "display_data"
    },
    {
     "name": "stdout",
     "output_type": "stream",
     "text": [
      "[jovian] Attempting to save notebook..\u001b[0m\n",
      "[jovian] Updating notebook \"aakashns/zerotopandas-course-project-starter\" on https://jovian.ml/\u001b[0m\n",
      "[jovian] Uploading notebook..\u001b[0m\n",
      "[jovian] Capturing environment..\u001b[0m\n",
      "[jovian] Committed successfully! https://jovian.ml/aakashns/zerotopandas-course-project-starter\u001b[0m\n"
     ]
    },
    {
     "data": {
      "text/plain": [
       "'https://jovian.ml/aakashns/zerotopandas-course-project-starter'"
      ]
     },
     "execution_count": 23,
     "metadata": {},
     "output_type": "execute_result"
    }
   ],
   "source": [
    "jovian.commit()"
   ]
  },
  {
   "cell_type": "markdown",
   "metadata": {},
   "source": [
    "## Exploratory Analysis and Visualization\n",
    "\n",
    "**TODO** - write some explanation here.\n",
    "\n"
   ]
  },
  {
   "cell_type": "markdown",
   "metadata": {},
   "source": [
    "> Instructions (delete this cell)\n",
    "> \n",
    "> - Compute the mean, sum, range and other interesting statistics for numeric columns\n",
    "> - Explore distributions of numeric columns using histograms etc.\n",
    "> - Explore relationship between columns using scatter plots, bar charts etc.\n",
    "> - Make a note of interesting insights from the exploratory analysis"
   ]
  },
  {
   "cell_type": "markdown",
   "metadata": {},
   "source": [
    "Let's begin by importing`matplotlib.pyplot` and `seaborn`."
   ]
  },
  {
   "cell_type": "code",
   "execution_count": 24,
   "metadata": {},
   "outputs": [],
   "source": [
    "import seaborn as sns\n",
    "import matplotlib\n",
    "import matplotlib.pyplot as plt\n",
    "%matplotlib inline\n",
    "\n",
    "sns.set_style('darkgrid')\n",
    "matplotlib.rcParams['font.size'] = 14\n",
    "matplotlib.rcParams['figure.figsize'] = (9, 5)\n",
    "matplotlib.rcParams['figure.facecolor'] = '#00000000'"
   ]
  },
  {
   "cell_type": "markdown",
   "metadata": {},
   "source": [
    "**TODO** - Explore one or more columns by plotting a graph below, and add some explanation about it"
   ]
  },
  {
   "cell_type": "code",
   "execution_count": null,
   "metadata": {},
   "outputs": [],
   "source": []
  },
  {
   "cell_type": "code",
   "execution_count": null,
   "metadata": {},
   "outputs": [],
   "source": []
  },
  {
   "cell_type": "markdown",
   "metadata": {},
   "source": [
    "**TODO** - Explore one or more columns by plotting a graph below, and add some explanation about it"
   ]
  },
  {
   "cell_type": "code",
   "execution_count": null,
   "metadata": {},
   "outputs": [],
   "source": []
  },
  {
   "cell_type": "code",
   "execution_count": null,
   "metadata": {},
   "outputs": [],
   "source": []
  },
  {
   "cell_type": "markdown",
   "metadata": {},
   "source": [
    "**TODO** - Explore one or more columns by plotting a graph below, and add some explanation about it"
   ]
  },
  {
   "cell_type": "code",
   "execution_count": null,
   "metadata": {},
   "outputs": [],
   "source": []
  },
  {
   "cell_type": "code",
   "execution_count": null,
   "metadata": {},
   "outputs": [],
   "source": []
  },
  {
   "cell_type": "markdown",
   "metadata": {},
   "source": [
    "**TODO** - Explore one or more columns by plotting a graph below, and add some explanation about it"
   ]
  },
  {
   "cell_type": "code",
   "execution_count": null,
   "metadata": {},
   "outputs": [],
   "source": []
  },
  {
   "cell_type": "code",
   "execution_count": null,
   "metadata": {},
   "outputs": [],
   "source": []
  },
  {
   "cell_type": "markdown",
   "metadata": {},
   "source": [
    "**TODO** - Explore one or more columns by plotting a graph below, and add some explanation about it"
   ]
  },
  {
   "cell_type": "code",
   "execution_count": null,
   "metadata": {},
   "outputs": [],
   "source": []
  },
  {
   "cell_type": "code",
   "execution_count": null,
   "metadata": {},
   "outputs": [],
   "source": []
  },
  {
   "cell_type": "markdown",
   "metadata": {},
   "source": [
    "Let us save and upload our work to Jovian before continuing"
   ]
  },
  {
   "cell_type": "code",
   "execution_count": 25,
   "metadata": {},
   "outputs": [],
   "source": [
    "import jovian"
   ]
  },
  {
   "cell_type": "code",
   "execution_count": 26,
   "metadata": {},
   "outputs": [
    {
     "data": {
      "application/javascript": "window.require && require([\"base/js/namespace\"],function(Jupyter){Jupyter.notebook.save_checkpoint()})",
      "text/plain": [
       "<IPython.core.display.Javascript object>"
      ]
     },
     "metadata": {},
     "output_type": "display_data"
    },
    {
     "name": "stdout",
     "output_type": "stream",
     "text": [
      "[jovian] Attempting to save notebook..\u001b[0m\n",
      "[jovian] Updating notebook \"aakashns/zerotopandas-course-project-starter\" on https://jovian.ml/\u001b[0m\n",
      "[jovian] Uploading notebook..\u001b[0m\n",
      "[jovian] Capturing environment..\u001b[0m\n",
      "[jovian] Committed successfully! https://jovian.ml/aakashns/zerotopandas-course-project-starter\u001b[0m\n"
     ]
    },
    {
     "data": {
      "text/plain": [
       "'https://jovian.ml/aakashns/zerotopandas-course-project-starter'"
      ]
     },
     "execution_count": 26,
     "metadata": {},
     "output_type": "execute_result"
    }
   ],
   "source": [
    "jovian.commit()"
   ]
  },
  {
   "cell_type": "markdown",
   "metadata": {},
   "source": [
    "## Asking and Answering Questions\n",
    "\n",
    "TODO - write some explanation here.\n",
    "\n"
   ]
  },
  {
   "cell_type": "markdown",
   "metadata": {},
   "source": [
    "> Instructions (delete this cell)\n",
    ">\n",
    "> - Ask at least 5 interesting questions about your dataset\n",
    "> - Answer the questions either by computing the results using Numpy/Pandas or by plotting graphs using Matplotlib/Seaborn\n",
    "> - Create new columns, merge multiple dataset and perform grouping/aggregation wherever necessary\n",
    "> - Wherever you're using a library function from Pandas/Numpy/Matplotlib etc. explain briefly what it does\n",
    "\n"
   ]
  },
  {
   "cell_type": "markdown",
   "metadata": {},
   "source": [
    "#### Q1: TODO - ask a question here and answer it below"
   ]
  },
  {
   "cell_type": "code",
   "execution_count": null,
   "metadata": {},
   "outputs": [],
   "source": []
  },
  {
   "cell_type": "code",
   "execution_count": null,
   "metadata": {},
   "outputs": [],
   "source": []
  },
  {
   "cell_type": "code",
   "execution_count": null,
   "metadata": {},
   "outputs": [],
   "source": []
  },
  {
   "cell_type": "markdown",
   "metadata": {},
   "source": [
    "#### Q2: TODO - ask a question here and answer it below"
   ]
  },
  {
   "cell_type": "code",
   "execution_count": null,
   "metadata": {},
   "outputs": [],
   "source": []
  },
  {
   "cell_type": "code",
   "execution_count": null,
   "metadata": {},
   "outputs": [],
   "source": []
  },
  {
   "cell_type": "code",
   "execution_count": null,
   "metadata": {},
   "outputs": [],
   "source": []
  },
  {
   "cell_type": "markdown",
   "metadata": {},
   "source": [
    "#### Q3: TODO - ask a question here and answer it below"
   ]
  },
  {
   "cell_type": "code",
   "execution_count": null,
   "metadata": {},
   "outputs": [],
   "source": []
  },
  {
   "cell_type": "code",
   "execution_count": null,
   "metadata": {},
   "outputs": [],
   "source": []
  },
  {
   "cell_type": "code",
   "execution_count": null,
   "metadata": {},
   "outputs": [],
   "source": []
  },
  {
   "cell_type": "markdown",
   "metadata": {},
   "source": [
    "#### Q4: TODO - ask a question here and answer it below"
   ]
  },
  {
   "cell_type": "code",
   "execution_count": null,
   "metadata": {},
   "outputs": [],
   "source": []
  },
  {
   "cell_type": "code",
   "execution_count": null,
   "metadata": {},
   "outputs": [],
   "source": []
  },
  {
   "cell_type": "code",
   "execution_count": null,
   "metadata": {},
   "outputs": [],
   "source": []
  },
  {
   "cell_type": "markdown",
   "metadata": {},
   "source": [
    "#### Q5: TODO - ask a question here and answer it below"
   ]
  },
  {
   "cell_type": "code",
   "execution_count": null,
   "metadata": {},
   "outputs": [],
   "source": []
  },
  {
   "cell_type": "code",
   "execution_count": null,
   "metadata": {},
   "outputs": [],
   "source": []
  },
  {
   "cell_type": "code",
   "execution_count": null,
   "metadata": {},
   "outputs": [],
   "source": []
  },
  {
   "cell_type": "markdown",
   "metadata": {},
   "source": [
    "Let us save and upload our work to Jovian before continuing."
   ]
  },
  {
   "cell_type": "code",
   "execution_count": 28,
   "metadata": {},
   "outputs": [],
   "source": [
    "import jovian"
   ]
  },
  {
   "cell_type": "code",
   "execution_count": 29,
   "metadata": {},
   "outputs": [
    {
     "data": {
      "application/javascript": "window.require && require([\"base/js/namespace\"],function(Jupyter){Jupyter.notebook.save_checkpoint()})",
      "text/plain": [
       "<IPython.core.display.Javascript object>"
      ]
     },
     "metadata": {},
     "output_type": "display_data"
    },
    {
     "name": "stdout",
     "output_type": "stream",
     "text": [
      "[jovian] Attempting to save notebook..\u001b[0m\n",
      "[jovian] Updating notebook \"aakashns/zerotopandas-course-project-starter\" on https://jovian.ml/\u001b[0m\n",
      "[jovian] Uploading notebook..\u001b[0m\n",
      "[jovian] Capturing environment..\u001b[0m\n",
      "[jovian] Committed successfully! https://jovian.ml/aakashns/zerotopandas-course-project-starter\u001b[0m\n"
     ]
    },
    {
     "data": {
      "text/plain": [
       "'https://jovian.ml/aakashns/zerotopandas-course-project-starter'"
      ]
     },
     "execution_count": 29,
     "metadata": {},
     "output_type": "execute_result"
    }
   ],
   "source": [
    "jovian.commit()"
   ]
  },
  {
   "cell_type": "markdown",
   "metadata": {},
   "source": [
    "## Inferences and Conclusion\n",
    "\n",
    "**TODO** - Write some explanation here: a summary of all the inferences drawn from the analysis, and any conclusions you may have drawn by answering various questions."
   ]
  },
  {
   "cell_type": "code",
   "execution_count": 30,
   "metadata": {},
   "outputs": [],
   "source": [
    "import jovian"
   ]
  },
  {
   "cell_type": "code",
   "execution_count": 31,
   "metadata": {},
   "outputs": [
    {
     "data": {
      "application/javascript": "window.require && require([\"base/js/namespace\"],function(Jupyter){Jupyter.notebook.save_checkpoint()})",
      "text/plain": [
       "<IPython.core.display.Javascript object>"
      ]
     },
     "metadata": {},
     "output_type": "display_data"
    },
    {
     "name": "stdout",
     "output_type": "stream",
     "text": [
      "[jovian] Attempting to save notebook..\u001b[0m\n",
      "[jovian] Updating notebook \"aakashns/zerotopandas-course-project-starter\" on https://jovian.ml/\u001b[0m\n",
      "[jovian] Uploading notebook..\u001b[0m\n",
      "[jovian] Capturing environment..\u001b[0m\n",
      "[jovian] Committed successfully! https://jovian.ml/aakashns/zerotopandas-course-project-starter\u001b[0m\n"
     ]
    },
    {
     "data": {
      "text/plain": [
       "'https://jovian.ml/aakashns/zerotopandas-course-project-starter'"
      ]
     },
     "execution_count": 31,
     "metadata": {},
     "output_type": "execute_result"
    }
   ],
   "source": [
    "jovian.commit()"
   ]
  },
  {
   "cell_type": "markdown",
   "metadata": {},
   "source": [
    "## References and Future Work\n",
    "\n",
    "**TODO** - Write some explanation here: ideas for future projects using this dataset, and links to resources you found useful."
   ]
  },
  {
   "cell_type": "markdown",
   "metadata": {},
   "source": [
    "> Submission Instructions (delete this cell)\n",
    "> \n",
    "> - Upload your notebook to your Jovian.ml profile using `jovian.commit`.\n",
    "> - **Make a submission here**: https://jovian.ml/learn/data-analysis-with-python-zero-to-pandas/assignment/course-project\n",
    "> - Share your work on the forum: https://jovian.ml/forum/t/course-project-on-exploratory-data-analysis-discuss-and-share-your-work/11684\n",
    "> - Share your work on social media (Twitter, LinkedIn, Telegram etc.) and tag [@JovianML](https://twitter.com/jovianml)\n",
    ">\n",
    "> (Optional) Write a blog post\n",
    "> \n",
    "> - A blog post is a great way to present and showcase your work.  \n",
    "> - Sign up on [Medium.com](https://medium.com) to write a blog post for your project.\n",
    "> - Copy over the explanations from your Jupyter notebook into your blog post, and [embed code cells & outputs](https://medium.com/jovianml/share-and-embed-jupyter-notebooks-online-with-jovian-ml-df709a03064e)\n",
    "> - Check out the Jovian.ml Medium publication for inspiration: https://medium.com/jovianml\n",
    "\n",
    "\n",
    " "
   ]
  },
  {
   "cell_type": "markdown",
   "metadata": {},
   "source": [
    "\n",
    "## Resources:\n",
    "\n",
    "* [**pyErgast**](https://github.com/weiranyu/pyErgast)**:** Python pandas wrapper for the [Ergast F1 API](http://ergast.com/mrd/). This package allows easy access to the Ergast API for anyone wishing to conduct analysis on Formula 1 data.\n",
    "* [**Ergast API**](http://ergast.com/mrd/)**:** The Ergast Developer API is an experimental [web service](http://en.wikipedia.org/wiki/Web\\_service) which provides a historical record of motor racing data for non-commercial purposes. Please read the [terms and conditions of use](http://ergast.com/mrd/terms). The API provides data for the [Formula One](http://en.wikipedia.org/wiki/Formula\\_One)series, from the beginning of the world championships in 1950.\n",
    "\n",
    "#### &#x20;                                                                                          Usage\n",
    "\n",
    "Use of the Ergast API is completely free, but you are welcome to [contribute to the annual running costs](https://liberapay.com/ergast). Any contributions above the actual costs will be donated to the [Grand Prix Trust](https://www.grandprixtrust.com/).\n",
    "\n",
    "<figure><img src=\"https://liberapay.com/assets/widgets/donate.svg\" alt=\"\"><figcaption></figcaption></figure>"
   ]
  },
  {
   "cell_type": "code",
   "execution_count": 32,
   "metadata": {},
   "outputs": [],
   "source": [
    "import jovian"
   ]
  },
  {
   "cell_type": "code",
   "execution_count": 10,
   "metadata": {
    "scrolled": true
   },
   "outputs": [
    {
     "data": {
      "application/javascript": "window.require && require([\"base/js/namespace\"],function(Jupyter){Jupyter.notebook.save_checkpoint()})",
      "text/plain": [
       "<IPython.core.display.Javascript object>"
      ]
     },
     "metadata": {},
     "output_type": "display_data"
    },
    {
     "name": "stdout",
     "output_type": "stream",
     "text": [
      "[jovian] Updating notebook \"zoibderg/hybrid-era-analysis\" on https://jovian.ai/\u001b[0m\n",
      "[jovian] Uploading additional files...\u001b[0m\n"
     ]
    },
    {
     "name": "stderr",
     "output_type": "stream",
     "text": [
      "\u001b[31m[jovian] Error: File upload failed: (HTTP 400) Invalid filename or extension (README.md)\u001b[0m\n",
      "\u001b[31m[jovian] Error: File upload failed: (HTTP 400) Invalid filename or extension (SUMMARY.md)\u001b[0m\n"
     ]
    },
    {
     "name": "stdout",
     "output_type": "stream",
     "text": [
      "[jovian] Committed successfully! https://jovian.ai/zoibderg/hybrid-era-analysis\u001b[0m\n"
     ]
    },
    {
     "data": {
      "text/plain": [
       "'https://jovian.ai/zoibderg/hybrid-era-analysis'"
      ]
     },
     "execution_count": 10,
     "metadata": {},
     "output_type": "execute_result"
    }
   ],
   "source": [
    "jovian.commit(project=project_name, filename=project_file, files=[\"README.md\", \"SUMMARY.md\", \"explore_ergast.py\"])"
   ]
  },
  {
   "cell_type": "code",
   "execution_count": null,
   "metadata": {},
   "outputs": [],
   "source": []
  }
 ],
 "metadata": {
  "kernelspec": {
   "display_name": "Python 3 (ipykernel)",
   "language": "python",
   "name": "python3"
  },
  "language_info": {
   "codemirror_mode": {
    "name": "ipython",
    "version": 3
   },
   "file_extension": ".py",
   "mimetype": "text/x-python",
   "name": "python",
   "nbconvert_exporter": "python",
   "pygments_lexer": "ipython3",
   "version": "3.9.13"
  },
  "vscode": {
   "interpreter": {
    "hash": "ce5d4c5ce0eae8759d521230ff7b88377fa62fb91656e5c2966f4bb1fdd362b7"
   }
  }
 },
 "nbformat": 4,
 "nbformat_minor": 4
}
