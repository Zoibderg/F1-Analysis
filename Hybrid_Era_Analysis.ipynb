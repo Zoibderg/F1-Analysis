{
 "cells": [
  {
   "cell_type": "markdown",
   "metadata": {
    "tags": []
   },
   "source": [
    "# 🏎 Formula 1 'Hybrid Era' Analysis\n",
    "\n",
    "<img src=\"notebook_source/JPG-RGB-F1_70_Number_HotRed_Standard_RGB-1024x302.jpg\">\n",
    "\n",
    "### About the Dataset\n",
    "\n",
    "#### Context\n",
    "\n",
    "Formula 1 (a.k.a. F1 or Formula One) is the highest class of single-seater auto racing sanctioned by the Fédération Internationale de l'Automobile (FIA) and owned by the Formula One Group. The FIA Formula One World Championship has been one of the premier forms of racing around the world since its inaugural season in 1950. The word \"formula\" in the name refers to the set of rules to which all participants' cars must conform. A Formula One season consists of a series of races, known as Grands Prix, which take place worldwide on purpose-built circuits and on public roads.\n",
    "\n",
    "#### Content\n",
    "\n",
    "The dataset consists of all information on the Formula 1 races, drivers, constructors, qualifying, circuits, lap times, pit stops, championships from 1950 till the latest 2021 season.\n",
    "\n",
    "## What is the Hybird Era?\n",
    "\n",
    "### 2014-2021\n",
    "\n",
    "The year 2014 ushered in the most significant rule changes in F1 history, with normally aspirated, 2.4-liter V8 engines replaced by new, 1.6-liter turbocharged V6 “power units” (no longer officially called engines) integrated with complex, hybrid energy recovery systems (ERS) that FIA claimed “gave the sport a much cleaner and greener image more relevant to developing road car technologies.”&#x20;\n",
    "\n",
    "The new formula allows turbocharged engines, which last appeared in 1988. These have their efficiency improved through turbo-compounding by recovering energy from exhaust gases. The original proposal for four-cylinder turbocharged engines was not welcomed by the racing teams, in particular Ferrari. A compromise was reached, allowing V6 forced induction engines instead. The engines rarely exceed 12,000 rpm during qualifying and race, due to the new fuel flow restrictions.\n",
    "\n",
    "Energy recovery systems such as KERS had a boost of 160 hp (120 kW) and 2 megajoules per lap. KERS was renamed Motor Generator Unit–Kinetic (MGU-K). Heat energyrecovery systems were also allowed, under the name Motor Generator Unit–Heat (MGU-H)\n",
    "\n",
    "The 2015 season was an improvement on 2014, adding about 30–50 hp (20–40 kW) to most engines, the Mercedes engine being the most powerful with 870 hp (649 kW). In 2019, Renault's engine was claimed to have hit 1,000 hp in qualifying trim.\n",
    "\n",
    "### 2022\n",
    "\n",
    "In 2017, the FIA began negotiations with existing constructors and potential new manufacturers over the next generation of engines with a projected introduction date of 2021 but delayed to 2022 due to the effects of the COVID-19 pandemic. The initial proposal was designed to simplify engine designs, cut costs, promote new entries and address criticisms directed at the 2014 generation of engines. It called for the 1.6 L V6 configuration to be retained, but abandoned the complex Motor Generator Unit–Heat (MGU-H) system. The Motor Generator Unit–Kinetic (MGU-K) would be more powerful, with a greater emphasis on driver deployment and a more flexible introduction to allow for tactical use.&#x20;\n",
    "\n",
    "The proposal also called for the introduction of standardised components and design parameters to make components produced by all manufacturers compatible with one another in a system dubbed \"plug in and play\". A further proposal to allow four-wheel drive cars was also made, with the front axle driven by an MGU-K unit—as opposed to the traditional driveshaft—that functioned independently of the MGU-K providing power to the rear axle, mirroring the system developed by Porsche for the 919 Hybrid race car.\n",
    "\n",
    "However, mostly due to no engine supplier applying for F1 entry in 2021 and 2022, abolishment of the MGU-H, a more powerful MGU-K and a four-wheel drive system were all shelved with the possibility of their re-introduction for 2026. Instead, the teams and FIA agreed to a radical change in body/chassis aerodynamics to promote more battles on the course at closer distances to each other. They further agreed to an increase in alcohol content from 5.75% to 10% of fuel, and to implement a freeze on power unit design for 2022-2025, with the ICE, turbocharger and MGU-H being frozen on March 1st and the energy store, MGU-K and control electronics being frozen on September 1st during the 2022 season. Honda, the outgoing engine supplier in 2021, was keen to keep the MGU-H, and Red Bull, who took over the engine production project, backed that opinion. The 4WD system was planned to be based on Porsche 919 Hybrid system, but Porsche ended up not becoming an F1 engine supplier for 2021-2022."
   ]
  },
  {
   "cell_type": "markdown",
   "metadata": {
    "jp-MarkdownHeadingCollapsed": true,
    "tags": []
   },
   "source": [
    "### How to run the code\n",
    "\n",
    "This is an executable [*Jupyter notebook*](https://jupyter.org) hosted on [Jovian.ml](https://www.jovian.ml), a platform for sharing data science projects. You can run and experiment with the code in a couple of ways: *using free online resources* (recommended) or *on your own computer*.\n",
    "\n",
    "#### Option 1: Running using free online resources (1-click, recommended)\n",
    "\n",
    "The easiest way to start executing this notebook is to click the \"Run\" button at the top of this page, and select \"Run on Binder\". This will run the notebook on [mybinder.org](https://mybinder.org), a free online service for running Jupyter notebooks. You can also select \"Run on Colab\" or \"Run on Kaggle\".\n",
    "\n",
    "\n",
    "#### Option 2: Running on your computer locally\n",
    "\n",
    "1. Install Conda by [following these instructions](https://conda.io/projects/conda/en/latest/user-guide/install/index.html). Add Conda binaries to your system `PATH`, so you can use the `conda` command on your terminal.\n",
    "\n",
    "2. Create a Conda environment and install the required libraries by running these commands on the terminal:\n",
    "\n",
    "```\n",
    "conda create -n zerotopandas -y python=3.8 \n",
    "conda activate zerotopandas\n",
    "pip install jovian jupyter numpy pandas matplotlib seaborn opendatasets --upgrade\n",
    "```\n",
    "\n",
    "3. Press the \"Clone\" button above to copy the command for downloading the notebook, and run it on the terminal. This will create a new directory and download the notebook. The command will look something like this:\n",
    "\n",
    "```\n",
    "jovian clone notebook-owner/notebook-id\n",
    "```\n",
    "\n",
    "\n",
    "\n",
    "4. Enter the newly created directory using `cd directory-name` and start the Jupyter notebook.\n",
    "\n",
    "```\n",
    "jupyter notebook\n",
    "```\n",
    "\n",
    "You can now access Jupyter's web interface by clicking the link that shows up on the terminal or by visiting http://localhost:8888 on your browser. Click on the notebook file (it has a `.ipynb` extension) to open it.\n"
   ]
  },
  {
   "cell_type": "markdown",
   "metadata": {},
   "source": [
    "## Downloading the Dataset\n",
    "\n",
    "We will be using pyergast to for access to the Formula 1 database provided by Ergast API. Pyergast gives us direct access to the database, with no need to downlowd a CSV or any other files. \n",
    "\n",
    "The \"explore_pyergast.py\" file will dive into pyergast's features and do some minor exploration in the data to gain familirity with the pyergast commands. "
   ]
  },
  {
   "cell_type": "code",
   "execution_count": 8,
   "metadata": {},
   "outputs": [
    {
     "name": "stdout",
     "output_type": "stream",
     "text": [
      "\n",
      "Usage:   \n",
      "  /Users/austintesch/opt/anaconda3/bin/python -m pip install [options] <requirement specifier> [package-index-options] ...\n",
      "  /Users/austintesch/opt/anaconda3/bin/python -m pip install [options] -r <requirements file> [package-index-options] ...\n",
      "  /Users/austintesch/opt/anaconda3/bin/python -m pip install [options] [-e] <vcs project url> ...\n",
      "  /Users/austintesch/opt/anaconda3/bin/python -m pip install [options] [-e] <local project path> ...\n",
      "  /Users/austintesch/opt/anaconda3/bin/python -m pip install [options] <archive url/path> ...\n",
      "\n",
      "no such option: -u\n",
      "Note: you may need to restart the kernel to use updated packages.\n",
      "\n",
      "Usage:   \n",
      "  /Users/austintesch/opt/anaconda3/bin/python -m pip install [options] <requirement specifier> [package-index-options] ...\n",
      "  /Users/austintesch/opt/anaconda3/bin/python -m pip install [options] -r <requirements file> [package-index-options] ...\n",
      "  /Users/austintesch/opt/anaconda3/bin/python -m pip install [options] [-e] <vcs project url> ...\n",
      "  /Users/austintesch/opt/anaconda3/bin/python -m pip install [options] [-e] <local project path> ...\n",
      "  /Users/austintesch/opt/anaconda3/bin/python -m pip install [options] <archive url/path> ...\n",
      "\n",
      "no such option: -u\n",
      "Note: you may need to restart the kernel to use updated packages.\n"
     ]
    }
   ],
   "source": [
    "%pip install -upgrade pip -quiet\n",
    "%pip install pyergast -upgrade -quiet"
   ]
  },
  {
   "cell_type": "code",
   "execution_count": 9,
   "metadata": {},
   "outputs": [],
   "source": [
    "# pyergast requires both numpy and pandas\n",
    "from __future__ import print_function\n",
    "\n",
    "import pprint as pp\n",
    "import sys\n",
    "from unittest import result\n",
    "\n",
    "import fastf1\n",
    "import fastf1.plotting as plotting\n",
    "import matplotlib.pyplot as plt\n",
    "import pandas as pd\n",
    "from fastf1.core import Laps\n",
    "from IPython.utils import io\n",
    "from timple.timedelta import strftimedelta"
   ]
  },
  {
   "cell_type": "markdown",
   "metadata": {},
   "source": [
    "Let us save and upload our work to Jovian before continuing."
   ]
  },
  {
   "cell_type": "code",
   "execution_count": 10,
   "metadata": {},
   "outputs": [],
   "source": [
    "project_name = \"hybrid-era-analysis\"\n",
    "project_file = \"Hybrid_Era_Analysis.ipynb\""
   ]
  },
  {
   "cell_type": "code",
   "execution_count": 11,
   "metadata": {},
   "outputs": [
    {
     "name": "stdout",
     "output_type": "stream",
     "text": [
      "Note: you may need to restart the kernel to use updated packages.\n"
     ]
    }
   ],
   "source": [
    "%pip install jovian --upgrade -q"
   ]
  },
  {
   "cell_type": "code",
   "execution_count": 12,
   "metadata": {},
   "outputs": [],
   "source": [
    "import jovian"
   ]
  },
  {
   "cell_type": "code",
   "execution_count": 13,
   "metadata": {},
   "outputs": [
    {
     "data": {
      "application/javascript": "window.require && require([\"base/js/namespace\"],function(Jupyter){Jupyter.notebook.save_checkpoint()})",
      "text/plain": [
       "<IPython.core.display.Javascript object>"
      ]
     },
     "metadata": {},
     "output_type": "display_data"
    },
    {
     "name": "stdout",
     "output_type": "stream",
     "text": [
      "[jovian] Updating notebook \"zoibderg/hybrid-era-analysis\" on https://jovian.ai/\u001b[0m\n",
      "[jovian] Uploading additional files...\u001b[0m\n",
      "[jovian] Committed successfully! https://jovian.ai/zoibderg/hybrid-era-analysis\u001b[0m\n"
     ]
    },
    {
     "data": {
      "text/plain": [
       "'https://jovian.ai/zoibderg/hybrid-era-analysis'"
      ]
     },
     "execution_count": 13,
     "metadata": {},
     "output_type": "execute_result"
    }
   ],
   "source": [
    "jovian.commit(project=project_name, filename=project_file, files=[\"explore_ergast.py\", \"notebook_source\"])"
   ]
  },
  {
   "cell_type": "markdown",
   "metadata": {},
   "source": [
    "## Data Preparation and Cleaning\n",
    "\n",
    "**TODO** - Write some explanation here.\n",
    "\n"
   ]
  },
  {
   "cell_type": "markdown",
   "metadata": {},
   "source": [
    "> Instructions (delete this cell):\n",
    ">\n",
    "> - Load the dataset into a data frame using Pandas\n",
    "> - Explore the number of rows & columns, ranges of values etc.\n",
    "> - Handle missing, incorrect and invalid data\n",
    "> - Perform any additional steps (parsing dates, creating additional columns, merging multiple dataset etc.)"
   ]
  },
  {
   "cell_type": "code",
   "execution_count": 30,
   "metadata": {
    "tags": []
   },
   "outputs": [],
   "source": [
    "# DATA PREPARATION\n",
    "class FormulaOneDataPreper:\n",
    "    def __init__(self, start, end, cache=True):\n",
    "        self.start = start\n",
    "        self.end = end\n",
    "        self.hybrid_schs = {}\n",
    "        self.events = {}\n",
    "        self.event_data = {}\n",
    "\n",
    "        if cache:\n",
    "            fastf1.Cache.enable_cache('./cache')   # optional but recommended\n",
    "\n",
    "    def get_schs(self, **kwargs):\n",
    "        year = kwargs.get('year')\n",
    "\n",
    "        if year is None:\n",
    "            # NO YEAR REQUESTED, FALL BACK TO  START AND END VALUES\n",
    "            for i in range(self.start, self.end):\n",
    "                self.hybrid_schs[i] = fastf1.get_event_schedule(i, include_testing=False)\n",
    "        elif year in range(self.start, self.end):\n",
    "            self.hybrid_schs[year] = fastf1.get_event_schedule(year, include_testing=False)\n",
    "        else:\n",
    "            print (f\"Year {year} is outside of the data range {self.start} - {self.end}\")\n",
    "\n",
    "    def get_events(self, **kwargs):\n",
    "        year = kwargs.get('year')\n",
    "        event = kwargs.get('event')\n",
    "\n",
    "        if year is None and event is None:\n",
    "            for i in range(self.start, self.end):\n",
    "                self.events[i] = list(self.hybrid_schs[i]['EventName'])\n",
    "        elif year is None:\n",
    "            return f\"Year not specified for event {event}\"\n",
    "        elif event is None:\n",
    "            self.events[year] = list(self.hybrid_schs[year]['EventName'])\n",
    "        else:\n",
    "            try:\n",
    "                year in self.hybrid_schs[year]\n",
    "            except Exception:\n",
    "                # SINGLE YEAR REQUESTED IS OUTSIDE THE DATA RANGE\n",
    "                print(f\"Year {year} is outside of the data range {self.start} - {self.end}\")\n",
    "            else:\n",
    "                if event in list(self.hybrid_schs[year]['EventName']):\n",
    "                    self.events[year] = event\n",
    "                else:\n",
    "                    print(f\"Event {event} not found in year {year}\")\n",
    "\n",
    "    def get_event_data(self, **kwargs):\n",
    "        year = kwargs.get('year')\n",
    "        event = kwargs.get('event')\n",
    "        session = kwargs.get('session')\n",
    "\n",
    "        if session is None:\n",
    "            session = 'R'\n",
    "\n",
    "        if year is None and event is None:\n",
    "            for i in range(self.start, self.end):\n",
    "                if i in self.events:\n",
    "                    for event in self.events[i]:\n",
    "                        data = fastf1.get_session(i, event, session)\n",
    "                        data.load()\n",
    "                        results = data.results\n",
    "                        self.event_data[i] = {event: results}\n",
    "                else:\n",
    "                    print(f\"Schedules for year {i} not found, please run get_schs() first.\")\n",
    "        elif year is None:\n",
    "            for i in range(self.start, self.end):\n",
    "                if i in self.events:\n",
    "                    if event in self.events[i]:\n",
    "                        data = fastf1.get_session(i, event, session)\n",
    "                        data.load()\n",
    "                        results = data.results\n",
    "                        self.event_data[i] = {event: results}\n",
    "                    else:\n",
    "                        print(f\"Event {event} not found in year {i}.\")\n",
    "                else:\n",
    "                    print(f\"Schedule for year {i} not found, check that you have the correct year (data will not be loaded).\")\n",
    "        elif event is None:\n",
    "            if year in self.events:\n",
    "                for event in self.events[year]:\n",
    "                    data = fastf1.get_session(year, event, session)\n",
    "                    data.load()\n",
    "                    results = data.results\n",
    "                    self.event_data[year] = {event: results}\n",
    "            else:\n",
    "                print(f\"Schedule for year {year} not found, check that you have the correct year (data will not be loaded).\")\n",
    "        else:\n",
    "            data = fastf1.get_session(year, event, session)\n",
    "            data.load()\n",
    "            results = data.results\n",
    "            self.event_data[year] = {event: results}"
   ]
  },
  {
   "cell_type": "code",
   "execution_count": 31,
   "metadata": {},
   "outputs": [
    {
     "name": "stderr",
     "output_type": "stream",
     "text": [
      "core           INFO \tLoading data for Belgian Grand Prix - Race [v2.3.0]\n"
     ]
    },
    {
     "name": "stdout",
     "output_type": "stream",
     "text": [
      "Schedules for year 2014 not found, please run get_schs() first.\n"
     ]
    },
    {
     "name": "stderr",
     "output_type": "stream",
     "text": [
      "core        WARNING \tCannot load laps, telemetry, weather, and message data because the relevant API is not supported for this session.\n",
      "core           INFO \tFinished loading data for 20 drivers: ['44', '6', '8', '26', '11', '19', '7', '33', '77', '9', '12', '5', '14', '22', '98', '28', '55', '3', '13', '27']\n",
      "core           INFO \tLoading data for British Grand Prix - Race [v2.3.0]\n",
      "core        WARNING \tCannot load laps, telemetry, weather, and message data because the relevant API is not supported for this session.\n",
      "core           INFO \tFinished loading data for 20 drivers: ['44', '6', '5', '19', '77', '26', '27', '7', '11', '14', '9', '98', '28', '55', '3', '33', '8', '13', '22', '12']\n",
      "core           INFO \tLoading data for Belgian Grand Prix - Race [v2.3.0]\n",
      "core        WARNING \tCannot load laps, telemetry, weather, and message data because the relevant API is not supported for this session.\n",
      "core           INFO \tFinished loading data for 20 drivers: ['44', '6', '8', '26', '11', '19', '7', '33', '77', '9', '12', '5', '14', '22', '98', '28', '55', '3', '13', '27']\n",
      "core           INFO \tLoading data for Italian Grand Prix - Race [v2.3.0]\n",
      "core        WARNING \tCannot load laps, telemetry, weather, and message data because the relevant API is not supported for this session.\n",
      "core           INFO \tFinished loading data for 20 drivers: ['44', '5', '19', '77', '7', '11', '27', '3', '9', '26', '55', '33', '12', '22', '28', '98', '6', '14', '8', '13']\n",
      "core           INFO \tLoading data for Bahrain Grand Prix - Race [v2.3.0]\n",
      "core        WARNING \tCannot load laps, telemetry, weather, and message data because the relevant API is not supported for this session.\n",
      "core           INFO \tFinished loading data for 20 drivers: ['44', '7', '6', '77', '5', '3', '8', '11', '26', '19', '14', '12', '27', '9', '13', '28', '98', '33', '55', '22']\n",
      "core           INFO \tLoading data for Belgian Grand Prix - Race [v2.3.0]\n",
      "core        WARNING \tCannot load laps, telemetry, weather, and message data because the relevant API is not supported for this session.\n",
      "core           INFO \tFinished loading data for 20 drivers: ['44', '6', '8', '26', '11', '19', '7', '33', '77', '9', '12', '5', '14', '22', '98', '28', '55', '3', '13', '27']\n",
      "core           INFO \tLoading data for Italian Grand Prix - Race [v2.3.0]\n",
      "core        WARNING \tCannot load laps, telemetry, weather, and message data because the relevant API is not supported for this session.\n",
      "core           INFO \tFinished loading data for 20 drivers: ['44', '5', '19', '77', '7', '11', '27', '3', '9', '26', '55', '33', '12', '22', '28', '98', '6', '14', '8', '13']\n",
      "core           INFO \tLoading data for Chinese Grand Prix - Race [v2.3.0]\n",
      "core        WARNING \tCannot load laps, telemetry, weather, and message data because the relevant API is not supported for this session.\n",
      "core           INFO \tFinished loading data for 20 drivers: ['44', '6', '5', '7', '19', '77', '8', '12', '3', '9', '11', '14', '55', '22', '28', '98', '33', '13', '26', '27']\n",
      "core           INFO \tLoading data for Belgian Grand Prix - Race [v2.3.0]\n",
      "core        WARNING \tCannot load laps, telemetry, weather, and message data because the relevant API is not supported for this session.\n",
      "core           INFO \tFinished loading data for 20 drivers: ['44', '6', '8', '26', '11', '19', '7', '33', '77', '9', '12', '5', '14', '22', '98', '28', '55', '3', '13', '27']\n",
      "core           INFO \tLoading data for Chinese Grand Prix - Race [v2.3.0]\n",
      "core        WARNING \tCannot load laps, telemetry, weather, and message data because the relevant API is not supported for this session.\n",
      "core           INFO \tFinished loading data for 20 drivers: ['44', '6', '5', '7', '19', '77', '8', '12', '3', '9', '11', '14', '55', '22', '28', '98', '33', '13', '26', '27']\n",
      "core           INFO \tLoading data for Monaco Grand Prix - Race [v2.3.0]\n",
      "core        WARNING \tCannot load laps, telemetry, weather, and message data because the relevant API is not supported for this session.\n",
      "core           INFO \tFinished loading data for 20 drivers: ['6', '5', '44', '26', '3', '7', '11', '22', '12', '55', '27', '8', '9', '77', '19', '98', '28', '33', '14', '13']\n",
      "core           INFO \tLoading data for Hungarian Grand Prix - Race [v2.3.0]\n",
      "core        WARNING \tCannot load laps, telemetry, weather, and message data because the relevant API is not supported for this session.\n",
      "core           INFO \tFinished loading data for 20 drivers: ['5', '26', '3', '33', '14', '44', '8', '6', '22', '9', '12', '19', '77', '13', '98', '28', '55', '7', '11', '27']\n",
      "core           INFO \tLoading data for Bahrain Grand Prix - Race [v2.3.0]\n",
      "core        WARNING \tCannot load laps, telemetry, weather, and message data because the relevant API is not supported for this session.\n",
      "core           INFO \tFinished loading data for 20 drivers: ['44', '7', '6', '77', '5', '3', '8', '11', '26', '19', '14', '12', '27', '9', '13', '28', '98', '33', '55', '22']\n",
      "core           INFO \tLoading data for Belgian Grand Prix - Race [v2.3.0]\n",
      "core        WARNING \tCannot load laps, telemetry, weather, and message data because the relevant API is not supported for this session.\n",
      "core           INFO \tFinished loading data for 20 drivers: ['44', '6', '8', '26', '11', '19', '7', '33', '77', '9', '12', '5', '14', '22', '98', '28', '55', '3', '13', '27']\n",
      "core           INFO \tLoading data for Chinese Grand Prix - Race [v2.3.0]\n",
      "core        WARNING \tCannot load laps, telemetry, weather, and message data because the relevant API is not supported for this session.\n",
      "core           INFO \tFinished loading data for 20 drivers: ['44', '6', '5', '7', '19', '77', '8', '12', '3', '9', '11', '14', '55', '22', '28', '98', '33', '13', '26', '27']\n",
      "core           INFO \tLoading data for Canadian Grand Prix - Race [v2.3.0]\n",
      "core        WARNING \tCannot load laps, telemetry, weather, and message data because the relevant API is not supported for this session.\n",
      "core           INFO \tFinished loading data for 20 drivers: ['44', '6', '77', '7', '5', '19', '13', '27', '26', '8', '11', '55', '3', '9', '33', '12', '28', '98', '22', '14']\n",
      "core           INFO \tLoading data for Monaco Grand Prix - Race [v2.3.0]\n",
      "core        WARNING \tCannot load laps, telemetry, weather, and message data because the relevant API is not supported for this session.\n",
      "core           INFO \tFinished loading data for 20 drivers: ['6', '5', '44', '26', '3', '7', '11', '22', '12', '55', '27', '8', '9', '77', '19', '98', '28', '33', '14', '13']\n",
      "core           INFO \tLoading data for Belgian Grand Prix - Race [v2.3.0]\n",
      "core        WARNING \tCannot load laps, telemetry, weather, and message data because the relevant API is not supported for this session.\n",
      "core           INFO \tFinished loading data for 20 drivers: ['44', '6', '8', '26', '11', '19', '7', '33', '77', '9', '12', '5', '14', '22', '98', '28', '55', '3', '13', '27']\n",
      "core           INFO \tLoading data for Bahrain Grand Prix - Race [v2.3.0]\n",
      "core        WARNING \tCannot load laps, telemetry, weather, and message data because the relevant API is not supported for this session.\n",
      "core           INFO \tFinished loading data for 20 drivers: ['44', '7', '6', '77', '5', '3', '8', '11', '26', '19', '14', '12', '27', '9', '13', '28', '98', '33', '55', '22']\n",
      "core           INFO \tLoading data for Chinese Grand Prix - Race [v2.3.0]\n",
      "core        WARNING \tCannot load laps, telemetry, weather, and message data because the relevant API is not supported for this session.\n",
      "core           INFO \tFinished loading data for 20 drivers: ['44', '6', '5', '7', '19', '77', '8', '12', '3', '9', '11', '14', '55', '22', '28', '98', '33', '13', '26', '27']\n",
      "core           INFO \tLoading data for Mexican Grand Prix - Race [v2.3.0]\n",
      "core        WARNING \tCannot load laps, telemetry, weather, and message data because the relevant API is not supported for this session.\n",
      "core           INFO \tFinished loading data for 20 drivers: ['6', '44', '77', '26', '3', '19', '27', '11', '33', '8', '13', '9', '55', '22', '53', '28', '12', '5', '7', '14']\n"
     ]
    },
    {
     "name": "stdout",
     "output_type": "stream",
     "text": [
      "Schedules for year 2016 not found, please run get_schs() first.\n",
      "Schedules for year 2017 not found, please run get_schs() first.\n",
      "Schedules for year 2018 not found, please run get_schs() first.\n",
      "Schedules for year 2019 not found, please run get_schs() first.\n",
      "Schedules for year 2020 not found, please run get_schs() first.\n",
      "Schedules for year 2021 not found, please run get_schs() first.\n",
      "Schedules for year 2022 not found, please run get_schs() first.\n",
      "{2015: 'Australian Grand Prix'}\n",
      "{2015: {'x':    DriverNumber BroadcastName Abbreviation        TeamName TeamColor  \\\n",
      "6             6                        ROS        Mercedes             \n",
      "44           44                        HAM        Mercedes             \n",
      "77           77                        BOT        Williams             \n",
      "26           26                        KVY        Red Bull             \n",
      "3             3                        RIC        Red Bull             \n",
      "19           19                        MAS        Williams             \n",
      "27           27                        HUL     Force India             \n",
      "11           11                        PER     Force India             \n",
      "33           33                        VER      Toro Rosso             \n",
      "8             8                        GRO        Lotus F1             \n",
      "13           13                        MAL        Lotus F1             \n",
      "9             9                        ERI          Sauber             \n",
      "55           55                        SAI      Toro Rosso             \n",
      "22           22                        BUT         McLaren             \n",
      "53           53                        RSS  Manor Marussia             \n",
      "28           28                        STE  Manor Marussia             \n",
      "12           12                        NAS          Sauber             \n",
      "5             5                        VET         Ferrari             \n",
      "7             7                        RAI         Ferrari             \n",
      "14           14                        ALO         McLaren             \n",
      "\n",
      "    FirstName    LastName          FullName  Position  GridPosition  Q1  Q2  \\\n",
      "6        Nico     Rosberg      Nico Rosberg       1.0           1.0 NaT NaT   \n",
      "44      Lewis    Hamilton    Lewis Hamilton       2.0           2.0 NaT NaT   \n",
      "77   Valtteri      Bottas   Valtteri Bottas       3.0           6.0 NaT NaT   \n",
      "26     Daniil       Kvyat      Daniil Kvyat       4.0           4.0 NaT NaT   \n",
      "3      Daniel   Ricciardo  Daniel Ricciardo       5.0           5.0 NaT NaT   \n",
      "19     Felipe       Massa      Felipe Massa       6.0           7.0 NaT NaT   \n",
      "27       Nico  Hülkenberg   Nico Hülkenberg       7.0          10.0 NaT NaT   \n",
      "11     Sergio       Pérez      Sergio Pérez       8.0           9.0 NaT NaT   \n",
      "33        Max  Verstappen    Max Verstappen       9.0           8.0 NaT NaT   \n",
      "8      Romain    Grosjean   Romain Grosjean      10.0          12.0 NaT NaT   \n",
      "13     Pastor   Maldonado  Pastor Maldonado      11.0          13.0 NaT NaT   \n",
      "9      Marcus    Ericsson   Marcus Ericsson      12.0          14.0 NaT NaT   \n",
      "55     Carlos       Sainz      Carlos Sainz      13.0          11.0 NaT NaT   \n",
      "22     Jenson      Button     Jenson Button      14.0          20.0 NaT NaT   \n",
      "53  Alexander       Rossi   Alexander Rossi      15.0          16.0 NaT NaT   \n",
      "28       Will     Stevens      Will Stevens      16.0          17.0 NaT NaT   \n",
      "12     Felipe        Nasr       Felipe Nasr      17.0          15.0 NaT NaT   \n",
      "5   Sebastian      Vettel  Sebastian Vettel      18.0           3.0 NaT NaT   \n",
      "7        Kimi   Räikkönen    Kimi Räikkönen      19.0          19.0 NaT NaT   \n",
      "14   Fernando      Alonso   Fernando Alonso      20.0          18.0 NaT NaT   \n",
      "\n",
      "    Q3                   Time     Status  Points  \n",
      "6  NaT 0 days 01:42:35.038000   Finished    25.0  \n",
      "44 NaT 0 days 01:42:36.992000   Finished    18.0  \n",
      "77 NaT 0 days 01:42:49.630000   Finished    15.0  \n",
      "26 NaT 0 days 01:42:51.610000   Finished    12.0  \n",
      "3  NaT 0 days 01:42:54.720000   Finished    10.0  \n",
      "19 NaT 0 days 01:42:56.531000   Finished     8.0  \n",
      "27 NaT 0 days 01:43:00.898000   Finished     6.0  \n",
      "11 NaT 0 days 01:43:09.381000   Finished     4.0  \n",
      "33 NaT 0 days 01:43:10.267000   Finished     2.0  \n",
      "8  NaT 0 days 01:43:12.972000   Finished     1.0  \n",
      "13 NaT 0 days 01:43:13.576000   Finished     0.0  \n",
      "9  NaT 0 days 01:43:15.218000   Finished     0.0  \n",
      "55 NaT 0 days 01:43:23.810000   Finished     0.0  \n",
      "22 NaT 0 days 01:43:24.252000   Finished     0.0  \n",
      "53 NaT                    NaT    +2 Laps     0.0  \n",
      "28 NaT                    NaT    +2 Laps     0.0  \n",
      "12 NaT                    NaT     Brakes     0.0  \n",
      "5  NaT                    NaT   Accident     0.0  \n",
      "7  NaT                    NaT  Collision     0.0  \n",
      "14 NaT                    NaT    Retired     0.0  }}\n"
     ]
    }
   ],
   "source": [
    "# LOAD DATA FOR ENTIRE HYBRID ERA\n",
    "\n",
    "\"\"\"\n",
    "WARING: FASTF1 WILL DOWNLOAD DATA FROM THE INTERNET\n",
    "FASTF1 WILL ALSO OUPUT A LOT OF INFORMATION TO THE CONSOLE; ENSURE OUPUT IS COLLAPSED\n",
    "\n",
    "It is recommended to run the notebook in Google Colab. \n",
    "The notebook is also available on GitHub\n",
    "\"\"\"\n",
    "\n",
    "hybrid_data = FormulaOneDataPreper(2014, 2023)\n",
    "hybrid_data.get_schs(year=2015)\n",
    "hybrid_data.get_events(year=2015, event='Australian Grand Prix')\n",
    "hybrid_data.get_event_data()\n",
    "\n",
    "# print(\"schedule\")\n",
    "# print(hybrid_data.hybrid_schs)\n",
    "# print(\"-----------------\")\n",
    "# print(\"events\")\n",
    "print(hybrid_data.events)\n",
    "# print(\"-----------------\")\n",
    "# print(\"race data\")\n",
    "print(hybrid_data.event_data)"
   ]
  },
  {
   "cell_type": "code",
   "execution_count": null,
   "metadata": {},
   "outputs": [],
   "source": [
    "# LETS MAKE ANOTHER JOVIAN COMMIT\n",
    "jovian.commit(project=project_name, filename=project_file, files=[\"explore_ergast.py\",\"explore_ergastpy.py\", \"notebook_source\", \"cache\"])"
   ]
  },
  {
   "cell_type": "code",
   "execution_count": null,
   "metadata": {},
   "outputs": [],
   "source": []
  },
  {
   "cell_type": "code",
   "execution_count": null,
   "metadata": {},
   "outputs": [],
   "source": []
  },
  {
   "cell_type": "code",
   "execution_count": null,
   "metadata": {},
   "outputs": [],
   "source": [
    "import jovian"
   ]
  },
  {
   "cell_type": "code",
   "execution_count": null,
   "metadata": {},
   "outputs": [],
   "source": [
    "jovian.commit()"
   ]
  },
  {
   "cell_type": "markdown",
   "metadata": {},
   "source": [
    "## Exploratory Analysis and Visualization\n",
    "\n",
    "**TODO** - write some explanation here.\n",
    "\n"
   ]
  },
  {
   "cell_type": "markdown",
   "metadata": {},
   "source": [
    "> Instructions (delete this cell)\n",
    "> \n",
    "> - Compute the mean, sum, range and other interesting statistics for numeric columns\n",
    "> - Explore distributions of numeric columns using histograms etc.\n",
    "> - Explore relationship between columns using scatter plots, bar charts etc.\n",
    "> - Make a note of interesting insights from the exploratory analysis"
   ]
  },
  {
   "cell_type": "markdown",
   "metadata": {},
   "source": [
    "Let's begin by importing`matplotlib.pyplot` and `seaborn`."
   ]
  },
  {
   "cell_type": "code",
   "execution_count": null,
   "metadata": {},
   "outputs": [],
   "source": [
    "import seaborn as sns\n",
    "import matplotlib\n",
    "import matplotlib.pyplot as plt\n",
    "%matplotlib inline\n",
    "\n",
    "sns.set_style('darkgrid')\n",
    "matplotlib.rcParams['font.size'] = 14\n",
    "matplotlib.rcParams['figure.figsize'] = (9, 5)\n",
    "matplotlib.rcParams['figure.facecolor'] = '#00000000'"
   ]
  },
  {
   "cell_type": "markdown",
   "metadata": {},
   "source": [
    "**TODO** - Explore one or more columns by plotting a graph below, and add some explanation about it"
   ]
  },
  {
   "cell_type": "code",
   "execution_count": null,
   "metadata": {},
   "outputs": [],
   "source": []
  },
  {
   "cell_type": "code",
   "execution_count": null,
   "metadata": {},
   "outputs": [],
   "source": []
  },
  {
   "cell_type": "markdown",
   "metadata": {},
   "source": [
    "**TODO** - Explore one or more columns by plotting a graph below, and add some explanation about it"
   ]
  },
  {
   "cell_type": "code",
   "execution_count": null,
   "metadata": {},
   "outputs": [],
   "source": []
  },
  {
   "cell_type": "code",
   "execution_count": null,
   "metadata": {},
   "outputs": [],
   "source": []
  },
  {
   "cell_type": "markdown",
   "metadata": {},
   "source": [
    "**TODO** - Explore one or more columns by plotting a graph below, and add some explanation about it"
   ]
  },
  {
   "cell_type": "code",
   "execution_count": null,
   "metadata": {},
   "outputs": [],
   "source": []
  },
  {
   "cell_type": "code",
   "execution_count": null,
   "metadata": {},
   "outputs": [],
   "source": []
  },
  {
   "cell_type": "markdown",
   "metadata": {},
   "source": [
    "**TODO** - Explore one or more columns by plotting a graph below, and add some explanation about it"
   ]
  },
  {
   "cell_type": "code",
   "execution_count": null,
   "metadata": {},
   "outputs": [],
   "source": []
  },
  {
   "cell_type": "code",
   "execution_count": null,
   "metadata": {},
   "outputs": [],
   "source": []
  },
  {
   "cell_type": "markdown",
   "metadata": {},
   "source": [
    "**TODO** - Explore one or more columns by plotting a graph below, and add some explanation about it"
   ]
  },
  {
   "cell_type": "code",
   "execution_count": null,
   "metadata": {},
   "outputs": [],
   "source": []
  },
  {
   "cell_type": "code",
   "execution_count": null,
   "metadata": {},
   "outputs": [],
   "source": []
  },
  {
   "cell_type": "markdown",
   "metadata": {},
   "source": [
    "Let us save and upload our work to Jovian before continuing"
   ]
  },
  {
   "cell_type": "code",
   "execution_count": null,
   "metadata": {},
   "outputs": [],
   "source": [
    "import jovian"
   ]
  },
  {
   "cell_type": "code",
   "execution_count": null,
   "metadata": {},
   "outputs": [],
   "source": [
    "jovian.commit()"
   ]
  },
  {
   "cell_type": "markdown",
   "metadata": {},
   "source": [
    "## Asking and Answering Questions\n",
    "\n",
    "TODO - write some explanation here.\n",
    "\n"
   ]
  },
  {
   "cell_type": "markdown",
   "metadata": {},
   "source": [
    "> Instructions (delete this cell)\n",
    ">\n",
    "> - Ask at least 5 interesting questions about your dataset\n",
    "> - Answer the questions either by computing the results using Numpy/Pandas or by plotting graphs using Matplotlib/Seaborn\n",
    "> - Create new columns, merge multiple dataset and perform grouping/aggregation wherever necessary\n",
    "> - Wherever you're using a library function from Pandas/Numpy/Matplotlib etc. explain briefly what it does\n",
    "\n"
   ]
  },
  {
   "cell_type": "markdown",
   "metadata": {},
   "source": [
    "#### Q1: TODO - ask a question here and answer it below"
   ]
  },
  {
   "cell_type": "code",
   "execution_count": null,
   "metadata": {},
   "outputs": [],
   "source": []
  },
  {
   "cell_type": "code",
   "execution_count": null,
   "metadata": {},
   "outputs": [],
   "source": []
  },
  {
   "cell_type": "code",
   "execution_count": null,
   "metadata": {},
   "outputs": [],
   "source": []
  },
  {
   "cell_type": "markdown",
   "metadata": {},
   "source": [
    "#### Q2: TODO - ask a question here and answer it below"
   ]
  },
  {
   "cell_type": "code",
   "execution_count": null,
   "metadata": {},
   "outputs": [],
   "source": []
  },
  {
   "cell_type": "code",
   "execution_count": null,
   "metadata": {},
   "outputs": [],
   "source": []
  },
  {
   "cell_type": "code",
   "execution_count": null,
   "metadata": {},
   "outputs": [],
   "source": []
  },
  {
   "cell_type": "markdown",
   "metadata": {},
   "source": [
    "#### Q3: TODO - ask a question here and answer it below"
   ]
  },
  {
   "cell_type": "code",
   "execution_count": null,
   "metadata": {},
   "outputs": [],
   "source": []
  },
  {
   "cell_type": "code",
   "execution_count": null,
   "metadata": {},
   "outputs": [],
   "source": []
  },
  {
   "cell_type": "code",
   "execution_count": null,
   "metadata": {},
   "outputs": [],
   "source": []
  },
  {
   "cell_type": "markdown",
   "metadata": {},
   "source": [
    "#### Q4: TODO - ask a question here and answer it below"
   ]
  },
  {
   "cell_type": "code",
   "execution_count": null,
   "metadata": {},
   "outputs": [],
   "source": []
  },
  {
   "cell_type": "code",
   "execution_count": null,
   "metadata": {},
   "outputs": [],
   "source": []
  },
  {
   "cell_type": "code",
   "execution_count": null,
   "metadata": {},
   "outputs": [],
   "source": []
  },
  {
   "cell_type": "markdown",
   "metadata": {},
   "source": [
    "#### Q5: TODO - ask a question here and answer it below"
   ]
  },
  {
   "cell_type": "code",
   "execution_count": null,
   "metadata": {},
   "outputs": [],
   "source": []
  },
  {
   "cell_type": "code",
   "execution_count": null,
   "metadata": {},
   "outputs": [],
   "source": []
  },
  {
   "cell_type": "code",
   "execution_count": null,
   "metadata": {},
   "outputs": [],
   "source": []
  },
  {
   "cell_type": "markdown",
   "metadata": {},
   "source": [
    "Let us save and upload our work to Jovian before continuing."
   ]
  },
  {
   "cell_type": "code",
   "execution_count": null,
   "metadata": {},
   "outputs": [],
   "source": [
    "import jovian"
   ]
  },
  {
   "cell_type": "code",
   "execution_count": null,
   "metadata": {},
   "outputs": [],
   "source": [
    "jovian.commit()"
   ]
  },
  {
   "cell_type": "markdown",
   "metadata": {},
   "source": [
    "## Inferences and Conclusion\n",
    "\n",
    "**TODO** - Write some explanation here: a summary of all the inferences drawn from the analysis, and any conclusions you may have drawn by answering various questions."
   ]
  },
  {
   "cell_type": "code",
   "execution_count": null,
   "metadata": {},
   "outputs": [],
   "source": [
    "import jovian"
   ]
  },
  {
   "cell_type": "code",
   "execution_count": null,
   "metadata": {},
   "outputs": [],
   "source": [
    "jovian.commit()"
   ]
  },
  {
   "cell_type": "markdown",
   "metadata": {},
   "source": [
    "## References and Future Work\n",
    "\n",
    "**TODO** - Write some explanation here: ideas for future projects using this dataset, and links to resources you found useful."
   ]
  },
  {
   "cell_type": "markdown",
   "metadata": {},
   "source": [
    "> Submission Instructions (delete this cell)\n",
    "> \n",
    "> - Upload your notebook to your Jovian.ml profile using `jovian.commit`.\n",
    "> - **Make a submission here**: https://jovian.ml/learn/data-analysis-with-python-zero-to-pandas/assignment/course-project\n",
    "> - Share your work on the forum: https://jovian.ml/forum/t/course-project-on-exploratory-data-analysis-discuss-and-share-your-work/11684\n",
    "> - Share your work on social media (Twitter, LinkedIn, Telegram etc.) and tag [@JovianML](https://twitter.com/jovianml)\n",
    ">\n",
    "> (Optional) Write a blog post\n",
    "> \n",
    "> - A blog post is a great way to present and showcase your work.  \n",
    "> - Sign up on [Medium.com](https://medium.com) to write a blog post for your project.\n",
    "> - Copy over the explanations from your Jupyter notebook into your blog post, and [embed code cells & outputs](https://medium.com/jovianml/share-and-embed-jupyter-notebooks-online-with-jovian-ml-df709a03064e)\n",
    "> - Check out the Jovian.ml Medium publication for inspiration: https://medium.com/jovianml\n",
    "\n",
    "\n",
    " "
   ]
  },
  {
   "cell_type": "markdown",
   "metadata": {},
   "source": [
    "\n",
    "## Resources:\n",
    "\n",
    "* [**pyErgast**](https://github.com/weiranyu/pyErgast)**:** Python pandas wrapper for the [Ergast F1 API](http://ergast.com/mrd/). This package allows easy access to the Ergast API for anyone wishing to conduct analysis on Formula 1 data.\n",
    "* [**Ergast API**](http://ergast.com/mrd/)**:** The Ergast Developer API is an experimental [web service](http://en.wikipedia.org/wiki/Web\\_service) which provides a historical record of motor racing data for non-commercial purposes. Please read the [terms and conditions of use](http://ergast.com/mrd/terms). The API provides data for the [Formula One](http://en.wikipedia.org/wiki/Formula\\_One)series, from the beginning of the world championships in 1950.\n",
    "\n",
    "#### &#x20;                                                                                          Usage\n",
    "\n",
    "Use of the Ergast API is completely free, but you are welcome to [contribute to the annual running costs](https://liberapay.com/ergast). Any contributions above the actual costs will be donated to the [Grand Prix Trust](https://www.grandprixtrust.com/).\n",
    "\n",
    "<figure><img src=\"https://liberapay.com/assets/widgets/donate.svg\" alt=\"\"><figcaption></figcaption></figure>"
   ]
  },
  {
   "cell_type": "code",
   "execution_count": null,
   "metadata": {},
   "outputs": [],
   "source": [
    "import jovian"
   ]
  },
  {
   "cell_type": "code",
   "execution_count": null,
   "metadata": {
    "scrolled": true
   },
   "outputs": [],
   "source": [
    "jovian.commit(project=project_name, filename=project_file, files=[\"README.md\", \"SUMMARY.md\", \"explore_ergast.py\"])"
   ]
  },
  {
   "cell_type": "code",
   "execution_count": null,
   "metadata": {},
   "outputs": [],
   "source": []
  }
 ],
 "metadata": {
  "kernelspec": {
   "display_name": "Python 3 (ipykernel)",
   "language": "python",
   "name": "python3"
  },
  "language_info": {
   "codemirror_mode": {
    "name": "ipython",
    "version": 3
   },
   "file_extension": ".py",
   "mimetype": "text/x-python",
   "name": "python",
   "nbconvert_exporter": "python",
   "pygments_lexer": "ipython3",
   "version": "3.9.13"
  },
  "vscode": {
   "interpreter": {
    "hash": "ce5d4c5ce0eae8759d521230ff7b88377fa62fb91656e5c2966f4bb1fdd362b7"
   }
  }
 },
 "nbformat": 4,
 "nbformat_minor": 4
}
